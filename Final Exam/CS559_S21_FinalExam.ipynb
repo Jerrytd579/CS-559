{
 "cells": [
  {
   "cell_type": "markdown",
   "metadata": {},
   "source": [
    "## CS559 S21 Final Exam. (105 pts)\n",
    "### Due: May 15$^{th}$ Saturday 11:59 PM\n",
    "### Exam Period: Two hours\n",
    "\n",
    "- **Late Submission Penalty**: Within the exam period, you are allowed to take the exam at any time at your convenience. However, the exam must be submitted within <u>**two hours**</u> from the exam starting time. Any late submissions will be penalized - **5 points for every 5 minutes.**\n",
    "- **Required File Submission**: Students must submit the exam in two formats - ***HTML*** and ***notebook***. <u>**If either file is missing, the exam will not be graded.**</u> Before the submission, please execute all codes in notebook.  \n",
    "- **Open Notes and Resource Usability**: Students may use the previous demonstration files provided in class and the lecture notes or textbooks. The use of the internet is prohibited. <u>**Any evidence of cheating or copying from outside resources will mark 0 on the final exam.**</u>\n",
    "- **Library Use**: You can use any built-in functions and libraries if the descriptions are not specified - some questions may require specific functions and libraries. "
   ]
  },
  {
   "cell_type": "markdown",
   "metadata": {},
   "source": [
    "### 1. Probability Theory: (15 pts)\n",
    "##### Work on notebook and provide answers in dataframes.\n",
    "\n",
    "A grocery store sells apples from 3 different countries (country A, country B and country C). All the apples from country A are sweet, while 75% of the apples from country B are sweet, and 50% of the apples from country C are sweet. Unfortunately, the sign in the grocery store that would normally indicate where the apples are from is missing. Nevertheless, you buy a bag of apples. Before tasting any apple, you believe that they are from country A with probability 0.5, country B with probability 0.25 and country C with probability 0.25. After tasting 5 apples, you noticed that 4 of them are sweet and 1 of them are not sweet."
   ]
  },
  {
   "cell_type": "markdown",
   "metadata": {},
   "source": [
    "#### 1-a: Bayesian learning: what is your posterior belief (after tasting the 5 apples mentioned above) that the apples are from each country? Find the prior, the likelihood, the unnormalized posterior, and the normalized posterior. (8 pts)"
   ]
  },
  {
   "cell_type": "code",
   "execution_count": 23,
   "metadata": {},
   "outputs": [],
   "source": [
    "## Type Priors -> given\n",
    "PrA= 0.5\n",
    "PrB= 0.25\n",
    "PrC= 0.25\n",
    "\n",
    "## Type likelihood -> also given\n",
    "LiA= 1\n",
    "LiB= 0.75\n",
    "LiC= 0.5"
   ]
  },
  {
   "cell_type": "code",
   "execution_count": 24,
   "metadata": {},
   "outputs": [],
   "source": [
    "## Calculate Unnormalized Posterior\n",
    "UnNormA= 0 # The probability that the 1 not sweet is of country A is 0, since none of the apples from country A are not sweet\n",
    "\n",
    "# The probability that the you choose an apple from country B with 1 not sweet is:\n",
    "# (0.25^1(0.75)^4) * (0.25)^1\n",
    "#   or: the probability that you choose a not sweet apple from the apples * the probability the apples are from country B\n",
    "UnNormB= 0.01975\n",
    "\n",
    "# The probability that you choose an apple from country C with 1 not sweet is \n",
    "# (0.25*0.5)*0.5^4\n",
    "UnNormC= 0.007813\n",
    "\n",
    "## Calculate Normalized Posterior\n",
    "\n",
    "# Normalization for A: since the probability that the A is not sweet is 0, its going to be 0 still\n",
    "NormA=0\n",
    "# Normalization B: probability unNorm B / (Prob unNorm A + prob Unnorm b + prob unnorm C)\n",
    "NormB=UnNormB / (UnNormA + UnNormB + UnNormC)\n",
    "# Same as above, but with unnorm C on top\n",
    "NormC=UnNormC / (UnNormA + UnNormB + UnNormC)"
   ]
  },
  {
   "cell_type": "code",
   "execution_count": 25,
   "metadata": {},
   "outputs": [],
   "source": [
    "AnswerA={'Country':['A','B','C'],'Prior':[PrA, PrB, PrC],'Likelihood':[LiA,LiB,LiC],\n",
    "         'Unnormalized Posterior':[UnNormA,UnNormB,UnNormC],'Normalized Posterior':[NormA,NormB,NormC]}"
   ]
  },
  {
   "cell_type": "markdown",
   "metadata": {},
   "source": [
    "#### 1-b: What is the probability that the next apple that you will taste is sweet according to the Bayesian learning prediction $Pr(Sweet|4sweets,1\\sim sweet)$? (7 pts)"
   ]
  },
  {
   "cell_type": "code",
   "execution_count": 26,
   "metadata": {},
   "outputs": [
    {
     "name": "stdout",
     "output_type": "stream",
     "text": [
      "0.6791350723796393\n"
     ]
    }
   ],
   "source": [
    "# The probability of the baysian learning prediction is equal to\n",
    "# P(sweet|A) * P(A|4 sweet, 1!Sweet) + P(sweet|B) * P(B|4 sweet, 1!Sweet) + P(sweet|C) * P(C|4 sweet, 1!Sweet)\n",
    "\n",
    "ProbB=(LiA*NormA)+(LiB*NormB)+(LiC*NormC)\n",
    "print(ProbB)"
   ]
  },
  {
   "cell_type": "markdown",
   "metadata": {},
   "source": [
    "### 2. Probabilitic Classification [25 pts]\n",
    "\n",
    "2-a: Consider the following dataset. The input space has one dimension and there are two classes (+ and -): (0,+), (1,+), (0.9,+), (0.5,+), (1.5, -), (0.7, -), (1.2, -), (0.95,-).  Suppose that we are training a mixture of Gaussians model by maximum likelihood. In computations, use \"P\" for + and \"M\" for - classes. DO NOT USE ANY BUILT-IN FUNCTIONS. \n",
    "- What are the prior probabilities of each class Pr(+) and Pr(-)? [2pts]\n",
    "- What is the mean of the conditional distribution of each class and what is the variance (assuming that both class conditional distributions have the same variance)? [3 pts]\n",
    "- What is the probability $Pr(+|0.8)$? [5 pts]"
   ]
  },
  {
   "cell_type": "code",
   "execution_count": 27,
   "metadata": {},
   "outputs": [],
   "source": [
    "### Prior Probability Computation:\n",
    "# Because there are 4 data points for + and 4 data points for -, it stands to reason that the prior prob for each is simply .5\n",
    "PrP=0.5\n",
    "PrM=0.5\n",
    "\n",
    "### Compute mean of each class:\n",
    "# simply the data point values added up divided by 4, which is the count\n",
    "meanP=(0+1+0.9+0.5)/4\n",
    "meanM=(1.5+0.7+1.2+0.95)/4\n",
    "\n",
    "### Compute variance of each class:\n",
    "# (0.25((0-0.6)**2)) + (0.25((1-0.6)**2)) + (0.25((0.9-0.6)**2)) + (0.25((0.5-0.6)**2))\n",
    "varP= 0.155\n",
    "# (0.25((1.5-1.0875)**2)) + (0.25((0.7-1.0875)**2)) + (0.25((1.2-1.0875)**2)) + (0.25((0.95-1.0875)**2))\n",
    "varM= 0.1215\n",
    "\n",
    "### Compute variance\n",
    "variance= 0.5*varP + 0.5*varM\n"
   ]
  },
  {
   "cell_type": "code",
   "execution_count": 28,
   "metadata": {},
   "outputs": [
    {
     "data": {
      "text/plain": [
       "{'Class': ['+', '-'],\n",
       " 'Prior': [0.5, 0.5],\n",
       " 'Mean': [0.6, 1.0875000000000001],\n",
       " 'Variance': [0.155, 0.1215]}"
      ]
     },
     "execution_count": 28,
     "metadata": {},
     "output_type": "execute_result"
    }
   ],
   "source": [
    "Answer={'Class':['+','-'],'Prior':[PrP, PrM],'Mean':[meanP,meanM],'Variance':[varP,varM]}\n",
    "Answer"
   ]
  },
  {
   "cell_type": "code",
   "execution_count": 29,
   "metadata": {},
   "outputs": [
    {
     "name": "stdout",
     "output_type": "stream",
     "text": [
      "Variance is 0.13824999999999998\n"
     ]
    }
   ],
   "source": [
    "print(\"Variance is\",variance)"
   ]
  },
  {
   "cell_type": "markdown",
   "metadata": {},
   "source": [
    "2-b: Suppose that you trained a linear classification model on some training data and the resulting weights are $w_0=1$,$w_1=2$,$w_3=-3$. Assuming two classes (+ and -), a data point is predicted to belong to class + when $\\sigma(w^T x+w_0 )\\ge0.8$. Implement a function `my_class` that classifies the following data points - $(2,1)^T$, $(1,2)^T$, and $(0.5,-1)^T$ - and report the class of each point. `my_class` is a function that classifies individual point. You can use simple math functions but not *ML* algorithms, e.g., Logistic Regression, SVM, etc. [10 pts] "
   ]
  },
  {
   "cell_type": "code",
   "execution_count": 30,
   "metadata": {},
   "outputs": [],
   "source": [
    "def my_class(x,w):\n",
    "    xpoint = x[0]\n",
    "    ypoint = x[1]\n",
    "    weight = w\n",
    "    \n",
    "    point = (xpoint*weight) + (ypoint*weight)\n",
    "    \n",
    "    if((point + weight) >= 0.8):\n",
    "        return '+'\n",
    "    else:\n",
    "        return '-'\n",
    "    "
   ]
  },
  {
   "cell_type": "code",
   "execution_count": 31,
   "metadata": {},
   "outputs": [],
   "source": [
    "## Use my_class to verifty the class of each point\n",
    "b1=my_class([2,1],1)\n",
    "b2=my_class([1,2],2)\n",
    "b3=my_class([0.5,-1],-3)"
   ]
  },
  {
   "cell_type": "code",
   "execution_count": 32,
   "metadata": {},
   "outputs": [],
   "source": [
    "Answer={'Points':['(2,1)','(1,2)','(0.5,-1'],'Class':[b1,b2,b3]}"
   ]
  },
  {
   "cell_type": "code",
   "execution_count": 33,
   "metadata": {},
   "outputs": [
    {
     "name": "stdout",
     "output_type": "stream",
     "text": [
      "{'Points': ['(2,1)', '(1,2)', '(0.5,-1'], 'Class': ['+', '+', '-']}\n"
     ]
    }
   ],
   "source": [
    "print(Answer)"
   ]
  },
  {
   "cell_type": "markdown",
   "metadata": {},
   "source": [
    "2-c: Consider the following data set:\n",
    "\n",
    "|x|y|\n",
    "|---------|----|\n",
    "|(1,2)|+|\n",
    "|(-1,-1)|+|\n",
    "|(0,2)|-|\n",
    "|(1,0)|-|\n",
    "\n",
    "where the first two points belong to class + and the last two points belong to class −. Is it possible for a logistic regression classifier to correctly classify all points in this dataset? If yes, give weights that ensure correct classification? If no, explain why and describe an approach that could be used to modify the logistic regression classifier to correctly classify all those data points? [5 pts]"
   ]
  },
  {
   "cell_type": "markdown",
   "metadata": {},
   "source": [
    "No, it is not possible to use logistic regression to correctly classify all of these points. As you can see from the plot below, it is not possible to fit a logistic signoid between the positive and negative points and classify them properly. This is because the points are a little mixed.  \n",
    "\n",
    "The way to modify the logistic regression classifier such that you could correctly classify these data points would be to upscale the data points into a 3rd plane. This would have the effect of creating a 3-dimensional graph/data set, allowing us to classify the data points properly so that way we could still classify this data using a logistic sigmoid plane. This would create a new space that can be separated"
   ]
  },
  {
   "cell_type": "code",
   "execution_count": 41,
   "metadata": {},
   "outputs": [
    {
     "data": {
      "text/plain": [
       "<function matplotlib.pyplot.show(close=None, block=None)>"
      ]
     },
     "execution_count": 41,
     "metadata": {},
     "output_type": "execute_result"
    },
    {
     "data": {
      "image/png": "[encoded data removed]",
      "text/plain": [
       "<Figure size 432x288 with 1 Axes>"
      ]
     },
     "metadata": {
      "needs_background": "light"
     },
     "output_type": "display_data"
    }
   ],
   "source": [
    "x = [1,-1,0,2]\n",
    "y = [2,-1,2,0]\n",
    "classification = ['green','green','red','red']\n",
    "\n",
    "plt.scatter(x,y, c=classification)\n",
    "plt.show"
   ]
  },
  {
   "cell_type": "markdown",
   "metadata": {},
   "source": []
  },
  {
   "cell_type": "markdown",
   "metadata": {},
   "source": [
    "Answer Here:\n",
    "- "
   ]
  },
  {
   "cell_type": "markdown",
   "metadata": {},
   "source": [
    "### 3. Maximum Likelihood Estimation [10 pts]\n",
    "\n",
    "3-a: Consider a data set in which each data point $t_n$ is associated with a weighting factor $r_n>0$, so that the sum-of-squares error function becomes \n",
    "\n",
    "$$E_D(w)=\\frac{1}{2}\\sum_{n=1}^Nr_n(t_n-w^Tx_n)^2$$.\n",
    "Find an expression for the solution $w^*$ that minimizes this error function. You need to show the work and insert the solution as an image in notebook. You can change \"FileName\" to the file name of your image. Please submit the image separately if the notebook does not accept the image. "
   ]
  },
  {
   "cell_type": "code",
   "execution_count": null,
   "metadata": {},
   "outputs": [],
   "source": [
    "<img src=\"FileName\">"
   ]
  },
  {
   "cell_type": "markdown",
   "metadata": {},
   "source": [
    "### 4. Data Preprocessing. (20 pts)\n",
    "This question involves data preprocessing that needs to be done before modeling. The data comes from a global company, including orders from 2012 to 2015. Import the dataset `Orders.csv`."
   ]
  },
  {
   "cell_type": "markdown",
   "metadata": {},
   "source": [
    "4-a. Check `Profit` and `Sales` in the dataset, convert these two columns to numeric type and name them `New Profit` and \"New Sales\", respectively. (4 pts)"
   ]
  },
  {
   "cell_type": "code",
   "execution_count": 130,
   "metadata": {},
   "outputs": [],
   "source": [
    "import pandas as pd\n",
    "import numpy as np\n",
    "from matplotlib import pyplot as plt\n",
    "pd.options.display.max_columns = None"
   ]
  },
  {
   "cell_type": "code",
   "execution_count": 131,
   "metadata": {},
   "outputs": [
    {
     "data": {
      "text/html": [
       "<div>\n",
       "<style scoped>\n",
       "    .dataframe tbody tr th:only-of-type {\n",
       "        vertical-align: middle;\n",
       "    }\n",
       "\n",
       "    .dataframe tbody tr th {\n",
       "        vertical-align: top;\n",
       "    }\n",
       "\n",
       "    .dataframe thead th {\n",
       "        text-align: right;\n",
       "    }\n",
       "</style>\n",
       "<table border=\"1\" class=\"dataframe\">\n",
       "  <thead>\n",
       "    <tr style=\"text-align: right;\">\n",
       "      <th></th>\n",
       "      <th>row.id</th>\n",
       "      <th>order.id</th>\n",
       "      <th>order.date</th>\n",
       "      <th>ship.date</th>\n",
       "      <th>ship.mode</th>\n",
       "      <th>customer.id</th>\n",
       "      <th>customer.name</th>\n",
       "      <th>segment</th>\n",
       "      <th>postal.code</th>\n",
       "      <th>city</th>\n",
       "      <th>state</th>\n",
       "      <th>country</th>\n",
       "      <th>region</th>\n",
       "      <th>market</th>\n",
       "      <th>product.id</th>\n",
       "      <th>category</th>\n",
       "      <th>sub.category</th>\n",
       "      <th>product.name</th>\n",
       "      <th>sales</th>\n",
       "      <th>quantity</th>\n",
       "      <th>discount</th>\n",
       "      <th>profit</th>\n",
       "      <th>shipping.cost</th>\n",
       "      <th>order.priority</th>\n",
       "    </tr>\n",
       "  </thead>\n",
       "  <tbody>\n",
       "    <tr>\n",
       "      <th>0</th>\n",
       "      <td>40098</td>\n",
       "      <td>CA-2014-AB10015140-41954</td>\n",
       "      <td>11/11/14</td>\n",
       "      <td>11/13/14</td>\n",
       "      <td>First Class</td>\n",
       "      <td>AB-100151402</td>\n",
       "      <td>Aaron Bergman</td>\n",
       "      <td>Consumer</td>\n",
       "      <td>73120.0</td>\n",
       "      <td>Oklahoma City</td>\n",
       "      <td>Oklahoma</td>\n",
       "      <td>United States</td>\n",
       "      <td>Central US</td>\n",
       "      <td>USCA</td>\n",
       "      <td>TEC-PH-5816</td>\n",
       "      <td>Technology</td>\n",
       "      <td>Phones</td>\n",
       "      <td>Samsung Convoy 3</td>\n",
       "      <td>$221.98</td>\n",
       "      <td>2</td>\n",
       "      <td>0.0</td>\n",
       "      <td>$62.15</td>\n",
       "      <td>40.77</td>\n",
       "      <td>High</td>\n",
       "    </tr>\n",
       "    <tr>\n",
       "      <th>1</th>\n",
       "      <td>26341</td>\n",
       "      <td>IN-2014-JR162107-41675</td>\n",
       "      <td>2/5/14</td>\n",
       "      <td>2/7/14</td>\n",
       "      <td>Second Class</td>\n",
       "      <td>JR-162107</td>\n",
       "      <td>Justin Ritter</td>\n",
       "      <td>Corporate</td>\n",
       "      <td>NaN</td>\n",
       "      <td>Wollongong</td>\n",
       "      <td>New South Wales</td>\n",
       "      <td>Australia</td>\n",
       "      <td>Oceania</td>\n",
       "      <td>Asia Pacific</td>\n",
       "      <td>FUR-CH-5379</td>\n",
       "      <td>Furniture</td>\n",
       "      <td>Chairs</td>\n",
       "      <td>Novimex Executive Leather Armchair, Black</td>\n",
       "      <td>$3,709.40</td>\n",
       "      <td>9</td>\n",
       "      <td>0.1</td>\n",
       "      <td>-$288.77</td>\n",
       "      <td>923.63</td>\n",
       "      <td>Critical</td>\n",
       "    </tr>\n",
       "    <tr>\n",
       "      <th>2</th>\n",
       "      <td>25330</td>\n",
       "      <td>IN-2014-CR127307-41929</td>\n",
       "      <td>10/17/14</td>\n",
       "      <td>10/18/14</td>\n",
       "      <td>First Class</td>\n",
       "      <td>CR-127307</td>\n",
       "      <td>Craig Reiter</td>\n",
       "      <td>Consumer</td>\n",
       "      <td>NaN</td>\n",
       "      <td>Brisbane</td>\n",
       "      <td>Queensland</td>\n",
       "      <td>Australia</td>\n",
       "      <td>Oceania</td>\n",
       "      <td>Asia Pacific</td>\n",
       "      <td>TEC-PH-5356</td>\n",
       "      <td>Technology</td>\n",
       "      <td>Phones</td>\n",
       "      <td>Nokia Smart Phone, with Caller ID</td>\n",
       "      <td>$5,175.17</td>\n",
       "      <td>9</td>\n",
       "      <td>0.1</td>\n",
       "      <td>$919.97</td>\n",
       "      <td>915.49</td>\n",
       "      <td>Medium</td>\n",
       "    </tr>\n",
       "    <tr>\n",
       "      <th>3</th>\n",
       "      <td>13524</td>\n",
       "      <td>ES-2014-KM1637548-41667</td>\n",
       "      <td>1/28/14</td>\n",
       "      <td>1/30/14</td>\n",
       "      <td>First Class</td>\n",
       "      <td>KM-1637548</td>\n",
       "      <td>Katherine Murray</td>\n",
       "      <td>Home Office</td>\n",
       "      <td>NaN</td>\n",
       "      <td>Berlin</td>\n",
       "      <td>Berlin</td>\n",
       "      <td>Germany</td>\n",
       "      <td>Western Europe</td>\n",
       "      <td>Europe</td>\n",
       "      <td>TEC-PH-5267</td>\n",
       "      <td>Technology</td>\n",
       "      <td>Phones</td>\n",
       "      <td>Motorola Smart Phone, Cordless</td>\n",
       "      <td>$2,892.51</td>\n",
       "      <td>5</td>\n",
       "      <td>0.1</td>\n",
       "      <td>-$96.54</td>\n",
       "      <td>910.16</td>\n",
       "      <td>Medium</td>\n",
       "    </tr>\n",
       "    <tr>\n",
       "      <th>4</th>\n",
       "      <td>47221</td>\n",
       "      <td>SG-2014-RH9495111-41948</td>\n",
       "      <td>11/5/14</td>\n",
       "      <td>11/6/14</td>\n",
       "      <td>Same Day</td>\n",
       "      <td>RH-9495111</td>\n",
       "      <td>Rick Hansen</td>\n",
       "      <td>Consumer</td>\n",
       "      <td>NaN</td>\n",
       "      <td>Dakar</td>\n",
       "      <td>Dakar</td>\n",
       "      <td>Senegal</td>\n",
       "      <td>Western Africa</td>\n",
       "      <td>Africa</td>\n",
       "      <td>TEC-CO-6011</td>\n",
       "      <td>Technology</td>\n",
       "      <td>Copiers</td>\n",
       "      <td>Sharp Wireless Fax, High-Speed</td>\n",
       "      <td>$2,832.96</td>\n",
       "      <td>8</td>\n",
       "      <td>0.0</td>\n",
       "      <td>$311.52</td>\n",
       "      <td>903.04</td>\n",
       "      <td>Critical</td>\n",
       "    </tr>\n",
       "  </tbody>\n",
       "</table>\n",
       "</div>"
      ],
      "text/plain": [
       "   row.id                  order.id order.date ship.date     ship.mode  \\\n",
       "0   40098  CA-2014-AB10015140-41954   11/11/14  11/13/14   First Class   \n",
       "1   26341    IN-2014-JR162107-41675     2/5/14    2/7/14  Second Class   \n",
       "2   25330    IN-2014-CR127307-41929   10/17/14  10/18/14   First Class   \n",
       "3   13524   ES-2014-KM1637548-41667    1/28/14   1/30/14   First Class   \n",
       "4   47221   SG-2014-RH9495111-41948    11/5/14   11/6/14      Same Day   \n",
       "\n",
       "    customer.id     customer.name      segment  postal.code           city  \\\n",
       "0  AB-100151402     Aaron Bergman     Consumer      73120.0  Oklahoma City   \n",
       "1     JR-162107     Justin Ritter    Corporate          NaN     Wollongong   \n",
       "2     CR-127307      Craig Reiter     Consumer          NaN       Brisbane   \n",
       "3    KM-1637548  Katherine Murray  Home Office          NaN         Berlin   \n",
       "4    RH-9495111       Rick Hansen     Consumer          NaN          Dakar   \n",
       "\n",
       "             state        country          region        market   product.id  \\\n",
       "0         Oklahoma  United States      Central US          USCA  TEC-PH-5816   \n",
       "1  New South Wales      Australia         Oceania  Asia Pacific  FUR-CH-5379   \n",
       "2       Queensland      Australia         Oceania  Asia Pacific  TEC-PH-5356   \n",
       "3           Berlin        Germany  Western Europe        Europe  TEC-PH-5267   \n",
       "4            Dakar        Senegal  Western Africa        Africa  TEC-CO-6011   \n",
       "\n",
       "     category sub.category                               product.name  \\\n",
       "0  Technology       Phones                           Samsung Convoy 3   \n",
       "1   Furniture       Chairs  Novimex Executive Leather Armchair, Black   \n",
       "2  Technology       Phones          Nokia Smart Phone, with Caller ID   \n",
       "3  Technology       Phones             Motorola Smart Phone, Cordless   \n",
       "4  Technology      Copiers             Sharp Wireless Fax, High-Speed   \n",
       "\n",
       "       sales  quantity  discount    profit  shipping.cost order.priority  \n",
       "0    $221.98         2       0.0    $62.15          40.77           High  \n",
       "1  $3,709.40         9       0.1  -$288.77         923.63       Critical  \n",
       "2  $5,175.17         9       0.1   $919.97         915.49         Medium  \n",
       "3  $2,892.51         5       0.1   -$96.54         910.16         Medium  \n",
       "4  $2,832.96         8       0.0   $311.52         903.04       Critical  "
      ]
     },
     "execution_count": 131,
     "metadata": {},
     "output_type": "execute_result"
    }
   ],
   "source": [
    "order_data = pd.read_csv('Orders.csv')\n",
    "order_data.columns = order_data.columns.str.lower()\n",
    "order_data.head()"
   ]
  },
  {
   "cell_type": "code",
   "execution_count": 132,
   "metadata": {},
   "outputs": [],
   "source": [
    "order_data['profit'] = order_data['profit'].replace('[\\$,]', '', regex=True)\n",
    "order_data['sales'] = order_data['sales'].replace('[\\$,]', '', regex=True)\n",
    "\n",
    "order_data[\"new_profit\"] = pd.to_numeric(order_data['profit'])\n",
    "order_data[\"new_sales\"] = pd.to_numeric(order_data['sales'])"
   ]
  },
  {
   "cell_type": "code",
   "execution_count": 133,
   "metadata": {},
   "outputs": [
    {
     "data": {
      "text/html": [
       "<div>\n",
       "<style scoped>\n",
       "    .dataframe tbody tr th:only-of-type {\n",
       "        vertical-align: middle;\n",
       "    }\n",
       "\n",
       "    .dataframe tbody tr th {\n",
       "        vertical-align: top;\n",
       "    }\n",
       "\n",
       "    .dataframe thead th {\n",
       "        text-align: right;\n",
       "    }\n",
       "</style>\n",
       "<table border=\"1\" class=\"dataframe\">\n",
       "  <thead>\n",
       "    <tr style=\"text-align: right;\">\n",
       "      <th></th>\n",
       "      <th>profit</th>\n",
       "      <th>new_profit</th>\n",
       "      <th>sales</th>\n",
       "      <th>new_sales</th>\n",
       "    </tr>\n",
       "  </thead>\n",
       "  <tbody>\n",
       "    <tr>\n",
       "      <th>0</th>\n",
       "      <td>62.15</td>\n",
       "      <td>62.15</td>\n",
       "      <td>221.98</td>\n",
       "      <td>221.98</td>\n",
       "    </tr>\n",
       "    <tr>\n",
       "      <th>1</th>\n",
       "      <td>-288.77</td>\n",
       "      <td>-288.77</td>\n",
       "      <td>3709.40</td>\n",
       "      <td>3709.40</td>\n",
       "    </tr>\n",
       "    <tr>\n",
       "      <th>2</th>\n",
       "      <td>919.97</td>\n",
       "      <td>919.97</td>\n",
       "      <td>5175.17</td>\n",
       "      <td>5175.17</td>\n",
       "    </tr>\n",
       "    <tr>\n",
       "      <th>3</th>\n",
       "      <td>-96.54</td>\n",
       "      <td>-96.54</td>\n",
       "      <td>2892.51</td>\n",
       "      <td>2892.51</td>\n",
       "    </tr>\n",
       "    <tr>\n",
       "      <th>4</th>\n",
       "      <td>311.52</td>\n",
       "      <td>311.52</td>\n",
       "      <td>2832.96</td>\n",
       "      <td>2832.96</td>\n",
       "    </tr>\n",
       "  </tbody>\n",
       "</table>\n",
       "</div>"
      ],
      "text/plain": [
       "    profit  new_profit    sales  new_sales\n",
       "0    62.15       62.15   221.98     221.98\n",
       "1  -288.77     -288.77  3709.40    3709.40\n",
       "2   919.97      919.97  5175.17    5175.17\n",
       "3   -96.54      -96.54  2892.51    2892.51\n",
       "4   311.52      311.52  2832.96    2832.96"
      ]
     },
     "execution_count": 133,
     "metadata": {},
     "output_type": "execute_result"
    }
   ],
   "source": [
    "order_data[['profit','new_profit','sales','new_sales']].head(5)"
   ]
  },
  {
   "cell_type": "markdown",
   "metadata": {},
   "source": [
    "4-b. Retailers that depend on seasonal shoppers have a particularly challenging job when it comes to inventory management. Your manager is making plans for next year’s inventory. He wants you to answer the following questions: (4 pts)\n",
    "- Is there any seasonal sales trend in your company?\n",
    "- Is there any seasonal trend of different categories of products?"
   ]
  },
  {
   "cell_type": "code",
   "execution_count": 134,
   "metadata": {},
   "outputs": [],
   "source": [
    "date = pd.to_datetime(order_data['order.date'])\n",
    "order_data['year'] = date.dt.year\n",
    "order_data['month'] = date.dt.month\n",
    "\n",
    "seasons = ['Winter', 'Winter', 'Spring', 'Spring', 'Spring', 'Summer', 'Summer', 'Summer', 'Fall', 'Fall', 'Fall', 'Winter']\n",
    "month_to_season = dict(zip(range(1,13), seasons))\n",
    "\n",
    "order_data['season'] = date.dt.month.map(month_to_season)"
   ]
  },
  {
   "cell_type": "code",
   "execution_count": 135,
   "metadata": {},
   "outputs": [
    {
     "name": "stdout",
     "output_type": "stream",
     "text": [
      "       year  month  season    sales\n",
      "0      2014     11    Fall   221.98\n",
      "1      2014      2  Winter  3709.40\n",
      "2      2014     10    Fall  5175.17\n",
      "3      2014      1  Winter  2892.51\n",
      "4      2014     11    Fall  2832.96\n",
      "...     ...    ...     ...      ...\n",
      "51285  2015      6  Summer    65.10\n",
      "51286  2014      5  Spring    16.72\n",
      "51287  2012      8  Summer     8.56\n",
      "51288  2013      2  Winter    13.44\n",
      "51289  2013      5  Spring    61.38\n",
      "\n",
      "[51290 rows x 4 columns]\n"
     ]
    }
   ],
   "source": [
    "sales_seasonal = order_data[['year', 'month', 'season', 'sales']]\n",
    "print(sales_seasonal)"
   ]
  },
  {
   "cell_type": "code",
   "execution_count": 136,
   "metadata": {},
   "outputs": [
    {
     "name": "stdout",
     "output_type": "stream",
     "text": [
      "2798102.499999986\n"
     ]
    }
   ],
   "source": [
    "winter_sales = 0\n",
    "spring_sales = 0\n",
    "summer_sales = 0\n",
    "fall_sales = 0\n",
    "\n",
    "for x in range (1,sales_seasonal.shape[0]):\n",
    "    if(sales_seasonal['season'][x]=='Winter'):\n",
    "        sale = float(sales_seasonal['sales'][x])\n",
    "        winter_sales = winter_sales + sale\n",
    "    elif(sales_seasonal['season'][x]=='Spring'):\n",
    "        sale = float(sales_seasonal['sales'][x])\n",
    "        spring_sales = spring_sales + sale\n",
    "    elif(sales_seasonal['season'][x]=='Summer'):\n",
    "        sale = float(sales_seasonal['sales'][x])\n",
    "        summer_sales = summer_sales + sale\n",
    "    else:\n",
    "        sale = float(sales_seasonal['sales'][x])\n",
    "        fall_sales = fall_sales + sale\n",
    "print(winter_sales)\n",
    "\n",
    "seasonal_sales = [winter_sales, spring_sales, summer_sales, fall_sales]"
   ]
  },
  {
   "cell_type": "code",
   "execution_count": 137,
   "metadata": {},
   "outputs": [
    {
     "data": {
      "text/plain": [
       "<BarContainer object of 4 artists>"
      ]
     },
     "execution_count": 137,
     "metadata": {},
     "output_type": "execute_result"
    },
    {
     "data": {
      "image/png": "[encoded data removed]",
      "text/plain": [
       "<Figure size 432x288 with 1 Axes>"
      ]
     },
     "metadata": {
      "needs_background": "light"
     },
     "output_type": "display_data"
    }
   ],
   "source": [
    "plt.bar(['Winter', 'Spring', 'Summer', 'Fall'], seasonal_sales)"
   ]
  },
  {
   "cell_type": "markdown",
   "metadata": {},
   "source": [
    "As we can see, the yearly sales seem to increase dramatically during the summer and fall seasons, and falls between winter and spring."
   ]
  },
  {
   "cell_type": "markdown",
   "metadata": {},
   "source": [
    "4-c. Your manager required you to give a brief report (Plots + Interpretations) on returned orders from the `Returns.csv` dataset. (10 pts)\n",
    "\n",
    "- How much profit did we lose for each year?\n",
    "- How many customer returned more than once? more than 10 times?\n",
    "- Which regions are more likely to return orders?\n",
    "- Which categories (sub-categories) of products are more likely to be returned?\n",
    "- Will different ship mode affect the possibility of return? Standard class is the most common ship mode, but it is not necessarily true that its return ratio is also the highest.\n",
    "- Hint: \n",
    "    - Import Returns.csv\n",
    "    - Merge the Returns dataframe you imported with the Orders dataframe.\n",
    "    - One order might contains multiple products so you will have more observations after the merge."
   ]
  },
  {
   "cell_type": "code",
   "execution_count": 173,
   "metadata": {},
   "outputs": [],
   "source": [
    "return_data = pd.read_csv('returns.csv')\n",
    "\n",
    "merged_data = return_data.merge(order_data, left_on='Order ID', right_on='order.id', how='outer')"
   ]
  },
  {
   "cell_type": "markdown",
   "metadata": {},
   "source": [
    "- How much profit did we lose for each year?"
   ]
  },
  {
   "cell_type": "code",
   "execution_count": 174,
   "metadata": {},
   "outputs": [
    {
     "name": "stdout",
     "output_type": "stream",
     "text": [
      "[2012 2015 2014 2013]\n",
      "248940.35000000126\n",
      "307415.32999999844\n",
      "406934.88999999955\n",
      "504166.099999999\n"
     ]
    }
   ],
   "source": [
    "print(merged_data['year'].unique())\n",
    "\n",
    "profit_2012 = 0\n",
    "profit_2013 = 0\n",
    "profit_2014 = 0\n",
    "profit_2015 = 0\n",
    "\n",
    "\n",
    "for x in range(0, merged_data.shape[0]):\n",
    "    if(merged_data['year'][x] == 2012):\n",
    "        profit_2012 += float(merged_data['profit'][x])\n",
    "    elif(merged_data['year'][x] == 2013):\n",
    "        profit_2013 += float(merged_data['profit'][x])\n",
    "    elif(merged_data['year'][x] == 2014):\n",
    "        profit_2014 += float(merged_data['profit'][x])      \n",
    "    else:\n",
    "        profit_2015 += float(merged_data['profit'][x])   \n",
    "\n",
    "print(profit_2012)\n",
    "print(profit_2013)\n",
    "print(profit_2014)\n",
    "print(profit_2015)"
   ]
  },
  {
   "cell_type": "markdown",
   "metadata": {},
   "source": [
    "- How many customer returned more than once? more than 10 times?"
   ]
  },
  {
   "cell_type": "code",
   "execution_count": null,
   "metadata": {},
   "outputs": [],
   "source": []
  },
  {
   "cell_type": "markdown",
   "metadata": {},
   "source": [
    "- Which regions are more likely to return orders?"
   ]
  },
  {
   "cell_type": "code",
   "execution_count": 198,
   "metadata": {},
   "outputs": [
    {
     "name": "stdout",
     "output_type": "stream",
     "text": [
      "               Region  Returned Count\n",
      "0          Central US               0\n",
      "1        Eastern Asia               0\n",
      "2             Oceania               0\n",
      "3      Western Europe               0\n",
      "4     Southern Europe               0\n",
      "5        Western Asia               0\n",
      "6         Southern US               0\n",
      "7     Southern Africa               0\n",
      "8          Eastern US               0\n",
      "9      Eastern Europe               0\n",
      "10  Southeastern Asia               0\n",
      "11         Western US               0\n",
      "12      Southern Asia               0\n",
      "13    Northern Europe               0\n",
      "14     Eastern Canada               0\n",
      "15    Central America               0\n",
      "16      South America               0\n",
      "17       North Africa               0\n",
      "18          Caribbean               0\n",
      "19     Central Africa               0\n",
      "20     Western Africa               0\n",
      "21     Eastern Africa               0\n",
      "22       Central Asia               0\n",
      "23     Western Canada               0\n",
      "24                NaN               0\n"
     ]
    }
   ],
   "source": [
    "# The idea is to create a data frame of regions and returned count, and then for each returned Yes or No, increment returned count\n",
    "\n",
    "\n",
    "merged_data['Returned'] = merged_data['Returned'].replace(np.nan, 'No')\n",
    "\n",
    "merged_data['Region'].unique()\n",
    "\n",
    "region_count = pd.DataFrame()\n",
    "region_count['Region'] = merged_data['Region'].unique()\n",
    "region_count['Returned Count'] = 0\n",
    "print(region_count)\n"
   ]
  },
  {
   "cell_type": "code",
   "execution_count": 200,
   "metadata": {},
   "outputs": [
    {
     "ename": "AttributeError",
     "evalue": "'DataFrame' object has no attribute 'merged_data'",
     "output_type": "error",
     "traceback": [
      "\u001b[0;31m---------------------------------------------------------------------------\u001b[0m",
      "\u001b[0;31mAttributeError\u001b[0m                            Traceback (most recent call last)",
      "\u001b[0;32m<ipython-input-200-29fecfebe31b>\u001b[0m in \u001b[0;36m<module>\u001b[0;34m\u001b[0m\n\u001b[1;32m      2\u001b[0m     \u001b[0mregion_name\u001b[0m \u001b[0;34m=\u001b[0m \u001b[0mmerged_data\u001b[0m\u001b[0;34m[\u001b[0m\u001b[0;34m'Region'\u001b[0m\u001b[0;34m]\u001b[0m\u001b[0;34m[\u001b[0m\u001b[0mx\u001b[0m\u001b[0;34m]\u001b[0m\u001b[0;34m\u001b[0m\u001b[0;34m\u001b[0m\u001b[0m\n\u001b[1;32m      3\u001b[0m \u001b[0;34m\u001b[0m\u001b[0m\n\u001b[0;32m----> 4\u001b[0;31m     \u001b[0mregion_count\u001b[0m\u001b[0;34m.\u001b[0m\u001b[0mmerged_data\u001b[0m\u001b[0;34m[\u001b[0m\u001b[0;34m'Region'\u001b[0m\u001b[0;34m]\u001b[0m\u001b[0;34m[\u001b[0m\u001b[0mx\u001b[0m\u001b[0;34m]\u001b[0m\u001b[0;34m[\u001b[0m\u001b[0;34m'Returned Count'\u001b[0m\u001b[0;34m]\u001b[0m \u001b[0;34m+=\u001b[0m \u001b[0;36m1\u001b[0m\u001b[0;34m\u001b[0m\u001b[0;34m\u001b[0m\u001b[0m\n\u001b[0m\u001b[1;32m      5\u001b[0m \u001b[0;34m\u001b[0m\u001b[0m\n\u001b[1;32m      6\u001b[0m \u001b[0mprint\u001b[0m\u001b[0;34m(\u001b[0m\u001b[0mregion_count\u001b[0m\u001b[0;34m)\u001b[0m\u001b[0;34m\u001b[0m\u001b[0;34m\u001b[0m\u001b[0m\n",
      "\u001b[0;32m~/.local/lib/python3.8/site-packages/pandas/core/generic.py\u001b[0m in \u001b[0;36m__getattr__\u001b[0;34m(self, name)\u001b[0m\n\u001b[1;32m   5463\u001b[0m             \u001b[0;32mif\u001b[0m \u001b[0mself\u001b[0m\u001b[0;34m.\u001b[0m\u001b[0m_info_axis\u001b[0m\u001b[0;34m.\u001b[0m\u001b[0m_can_hold_identifiers_and_holds_name\u001b[0m\u001b[0;34m(\u001b[0m\u001b[0mname\u001b[0m\u001b[0;34m)\u001b[0m\u001b[0;34m:\u001b[0m\u001b[0;34m\u001b[0m\u001b[0;34m\u001b[0m\u001b[0m\n\u001b[1;32m   5464\u001b[0m                 \u001b[0;32mreturn\u001b[0m \u001b[0mself\u001b[0m\u001b[0;34m[\u001b[0m\u001b[0mname\u001b[0m\u001b[0;34m]\u001b[0m\u001b[0;34m\u001b[0m\u001b[0;34m\u001b[0m\u001b[0m\n\u001b[0;32m-> 5465\u001b[0;31m             \u001b[0;32mreturn\u001b[0m \u001b[0mobject\u001b[0m\u001b[0;34m.\u001b[0m\u001b[0m__getattribute__\u001b[0m\u001b[0;34m(\u001b[0m\u001b[0mself\u001b[0m\u001b[0;34m,\u001b[0m \u001b[0mname\u001b[0m\u001b[0;34m)\u001b[0m\u001b[0;34m\u001b[0m\u001b[0;34m\u001b[0m\u001b[0m\n\u001b[0m\u001b[1;32m   5466\u001b[0m \u001b[0;34m\u001b[0m\u001b[0m\n\u001b[1;32m   5467\u001b[0m     \u001b[0;32mdef\u001b[0m \u001b[0m__setattr__\u001b[0m\u001b[0;34m(\u001b[0m\u001b[0mself\u001b[0m\u001b[0;34m,\u001b[0m \u001b[0mname\u001b[0m\u001b[0;34m:\u001b[0m \u001b[0mstr\u001b[0m\u001b[0;34m,\u001b[0m \u001b[0mvalue\u001b[0m\u001b[0;34m)\u001b[0m \u001b[0;34m->\u001b[0m \u001b[0;32mNone\u001b[0m\u001b[0;34m:\u001b[0m\u001b[0;34m\u001b[0m\u001b[0;34m\u001b[0m\u001b[0m\n",
      "\u001b[0;31mAttributeError\u001b[0m: 'DataFrame' object has no attribute 'merged_data'"
     ]
    }
   ],
   "source": [
    "for x in range(0, merged_data.shape[0]):\n",
    "    region_name = merged_data['Region'][x]\n",
    "    \n",
    "    region_count.region_name['Returned Count'] += 1\n",
    "\n",
    "print(region_count)"
   ]
  },
  {
   "cell_type": "markdown",
   "metadata": {},
   "source": [
    "- Which categories (sub-categories) of products are more likely to be returned?"
   ]
  },
  {
   "cell_type": "code",
   "execution_count": null,
   "metadata": {},
   "outputs": [],
   "source": []
  },
  {
   "cell_type": "markdown",
   "metadata": {},
   "source": [
    "- Will different ship mode affect the possibility of return? Standard class is the most common ship mode, but it is not necessarily true that its return ratio is also the highest."
   ]
  },
  {
   "cell_type": "code",
   "execution_count": null,
   "metadata": {},
   "outputs": [],
   "source": []
  },
  {
   "cell_type": "markdown",
   "metadata": {},
   "source": [
    "4-d. Add a column \"Order_Month” with the month that the order was submitted. (3 pts)"
   ]
  },
  {
   "cell_type": "code",
   "execution_count": 163,
   "metadata": {},
   "outputs": [
    {
     "data": {
      "text/html": [
       "<div>\n",
       "<style scoped>\n",
       "    .dataframe tbody tr th:only-of-type {\n",
       "        vertical-align: middle;\n",
       "    }\n",
       "\n",
       "    .dataframe tbody tr th {\n",
       "        vertical-align: top;\n",
       "    }\n",
       "\n",
       "    .dataframe thead th {\n",
       "        text-align: right;\n",
       "    }\n",
       "</style>\n",
       "<table border=\"1\" class=\"dataframe\">\n",
       "  <thead>\n",
       "    <tr style=\"text-align: right;\">\n",
       "      <th></th>\n",
       "      <th>row.id</th>\n",
       "      <th>order.id</th>\n",
       "      <th>order.date</th>\n",
       "      <th>ship.date</th>\n",
       "      <th>ship.mode</th>\n",
       "      <th>customer.id</th>\n",
       "      <th>customer.name</th>\n",
       "      <th>segment</th>\n",
       "      <th>postal.code</th>\n",
       "      <th>city</th>\n",
       "      <th>state</th>\n",
       "      <th>country</th>\n",
       "      <th>region</th>\n",
       "      <th>market</th>\n",
       "      <th>product.id</th>\n",
       "      <th>category</th>\n",
       "      <th>sub.category</th>\n",
       "      <th>product.name</th>\n",
       "      <th>sales</th>\n",
       "      <th>quantity</th>\n",
       "      <th>discount</th>\n",
       "      <th>profit</th>\n",
       "      <th>shipping.cost</th>\n",
       "      <th>order.priority</th>\n",
       "      <th>new_profit</th>\n",
       "      <th>new_sales</th>\n",
       "      <th>year</th>\n",
       "      <th>Order_Month</th>\n",
       "      <th>season</th>\n",
       "      <th>Returned</th>\n",
       "      <th>Order ID</th>\n",
       "      <th>Region</th>\n",
       "      <th>Unnamed: 3</th>\n",
       "      <th>Unnamed: 4</th>\n",
       "    </tr>\n",
       "  </thead>\n",
       "  <tbody>\n",
       "    <tr>\n",
       "      <th>0</th>\n",
       "      <td>30191</td>\n",
       "      <td>IN-2012-PB19210127-41259</td>\n",
       "      <td>12/16/12</td>\n",
       "      <td>12/19/12</td>\n",
       "      <td>First Class</td>\n",
       "      <td>PB-19210127</td>\n",
       "      <td>Phillip Breyer</td>\n",
       "      <td>Corporate</td>\n",
       "      <td>NaN</td>\n",
       "      <td>Taipei</td>\n",
       "      <td>Taipei City</td>\n",
       "      <td>Taiwan</td>\n",
       "      <td>Eastern Asia</td>\n",
       "      <td>Asia Pacific</td>\n",
       "      <td>FUR-TA-5060</td>\n",
       "      <td>Furniture</td>\n",
       "      <td>Tables</td>\n",
       "      <td>Lesro Conference Table, with Bottom Storage</td>\n",
       "      <td>1715.16</td>\n",
       "      <td>2</td>\n",
       "      <td>0.0</td>\n",
       "      <td>720.36</td>\n",
       "      <td>725.57</td>\n",
       "      <td>Critical</td>\n",
       "      <td>720.36</td>\n",
       "      <td>1715.16</td>\n",
       "      <td>2012</td>\n",
       "      <td>12</td>\n",
       "      <td>Winter</td>\n",
       "      <td>Yes</td>\n",
       "      <td>IN-2012-PB19210127-41259</td>\n",
       "      <td>Eastern Asia</td>\n",
       "      <td>NaN</td>\n",
       "      <td>NaN</td>\n",
       "    </tr>\n",
       "    <tr>\n",
       "      <th>1</th>\n",
       "      <td>30190</td>\n",
       "      <td>IN-2012-PB19210127-41259</td>\n",
       "      <td>12/16/12</td>\n",
       "      <td>12/19/12</td>\n",
       "      <td>First Class</td>\n",
       "      <td>PB-19210127</td>\n",
       "      <td>Phillip Breyer</td>\n",
       "      <td>Corporate</td>\n",
       "      <td>NaN</td>\n",
       "      <td>Taipei</td>\n",
       "      <td>Taipei City</td>\n",
       "      <td>Taiwan</td>\n",
       "      <td>Eastern Asia</td>\n",
       "      <td>Asia Pacific</td>\n",
       "      <td>FUR-BO-5762</td>\n",
       "      <td>Furniture</td>\n",
       "      <td>Bookcases</td>\n",
       "      <td>Safco Classic Bookcase, Pine</td>\n",
       "      <td>2197.50</td>\n",
       "      <td>5</td>\n",
       "      <td>0.0</td>\n",
       "      <td>153.75</td>\n",
       "      <td>627.27</td>\n",
       "      <td>Critical</td>\n",
       "      <td>153.75</td>\n",
       "      <td>2197.50</td>\n",
       "      <td>2012</td>\n",
       "      <td>12</td>\n",
       "      <td>Winter</td>\n",
       "      <td>Yes</td>\n",
       "      <td>IN-2012-PB19210127-41259</td>\n",
       "      <td>Eastern Asia</td>\n",
       "      <td>NaN</td>\n",
       "      <td>NaN</td>\n",
       "    </tr>\n",
       "    <tr>\n",
       "      <th>2</th>\n",
       "      <td>30187</td>\n",
       "      <td>IN-2012-PB19210127-41259</td>\n",
       "      <td>12/16/12</td>\n",
       "      <td>12/19/12</td>\n",
       "      <td>First Class</td>\n",
       "      <td>PB-19210127</td>\n",
       "      <td>Phillip Breyer</td>\n",
       "      <td>Corporate</td>\n",
       "      <td>NaN</td>\n",
       "      <td>Taipei</td>\n",
       "      <td>Taipei City</td>\n",
       "      <td>Taiwan</td>\n",
       "      <td>Eastern Asia</td>\n",
       "      <td>Asia Pacific</td>\n",
       "      <td>FUR-TA-5065</td>\n",
       "      <td>Furniture</td>\n",
       "      <td>Tables</td>\n",
       "      <td>Lesro Round Table, with Bottom Storage</td>\n",
       "      <td>1356.03</td>\n",
       "      <td>3</td>\n",
       "      <td>0.0</td>\n",
       "      <td>311.85</td>\n",
       "      <td>458.97</td>\n",
       "      <td>Critical</td>\n",
       "      <td>311.85</td>\n",
       "      <td>1356.03</td>\n",
       "      <td>2012</td>\n",
       "      <td>12</td>\n",
       "      <td>Winter</td>\n",
       "      <td>Yes</td>\n",
       "      <td>IN-2012-PB19210127-41259</td>\n",
       "      <td>Eastern Asia</td>\n",
       "      <td>NaN</td>\n",
       "      <td>NaN</td>\n",
       "    </tr>\n",
       "    <tr>\n",
       "      <th>3</th>\n",
       "      <td>30193</td>\n",
       "      <td>IN-2012-PB19210127-41259</td>\n",
       "      <td>12/16/12</td>\n",
       "      <td>12/19/12</td>\n",
       "      <td>First Class</td>\n",
       "      <td>PB-19210127</td>\n",
       "      <td>Phillip Breyer</td>\n",
       "      <td>Corporate</td>\n",
       "      <td>NaN</td>\n",
       "      <td>Taipei</td>\n",
       "      <td>Taipei City</td>\n",
       "      <td>Taiwan</td>\n",
       "      <td>Eastern Asia</td>\n",
       "      <td>Asia Pacific</td>\n",
       "      <td>FUR-CH-5454</td>\n",
       "      <td>Furniture</td>\n",
       "      <td>Chairs</td>\n",
       "      <td>Office Star Swivel Stool, Adjustable</td>\n",
       "      <td>882.15</td>\n",
       "      <td>5</td>\n",
       "      <td>0.0</td>\n",
       "      <td>114.60</td>\n",
       "      <td>203.92</td>\n",
       "      <td>Critical</td>\n",
       "      <td>114.60</td>\n",
       "      <td>882.15</td>\n",
       "      <td>2012</td>\n",
       "      <td>12</td>\n",
       "      <td>Winter</td>\n",
       "      <td>Yes</td>\n",
       "      <td>IN-2012-PB19210127-41259</td>\n",
       "      <td>Eastern Asia</td>\n",
       "      <td>NaN</td>\n",
       "      <td>NaN</td>\n",
       "    </tr>\n",
       "    <tr>\n",
       "      <th>4</th>\n",
       "      <td>30189</td>\n",
       "      <td>IN-2012-PB19210127-41259</td>\n",
       "      <td>12/16/12</td>\n",
       "      <td>12/19/12</td>\n",
       "      <td>First Class</td>\n",
       "      <td>PB-19210127</td>\n",
       "      <td>Phillip Breyer</td>\n",
       "      <td>Corporate</td>\n",
       "      <td>NaN</td>\n",
       "      <td>Taipei</td>\n",
       "      <td>Taipei City</td>\n",
       "      <td>Taiwan</td>\n",
       "      <td>Eastern Asia</td>\n",
       "      <td>Asia Pacific</td>\n",
       "      <td>TEC-MA-5494</td>\n",
       "      <td>Technology</td>\n",
       "      <td>Machines</td>\n",
       "      <td>Okidata Calculator, Red</td>\n",
       "      <td>148.32</td>\n",
       "      <td>3</td>\n",
       "      <td>0.0</td>\n",
       "      <td>68.22</td>\n",
       "      <td>25.48</td>\n",
       "      <td>Critical</td>\n",
       "      <td>68.22</td>\n",
       "      <td>148.32</td>\n",
       "      <td>2012</td>\n",
       "      <td>12</td>\n",
       "      <td>Winter</td>\n",
       "      <td>Yes</td>\n",
       "      <td>IN-2012-PB19210127-41259</td>\n",
       "      <td>Eastern Asia</td>\n",
       "      <td>NaN</td>\n",
       "      <td>NaN</td>\n",
       "    </tr>\n",
       "  </tbody>\n",
       "</table>\n",
       "</div>"
      ],
      "text/plain": [
       "   row.id                  order.id order.date ship.date    ship.mode  \\\n",
       "0   30191  IN-2012-PB19210127-41259   12/16/12  12/19/12  First Class   \n",
       "1   30190  IN-2012-PB19210127-41259   12/16/12  12/19/12  First Class   \n",
       "2   30187  IN-2012-PB19210127-41259   12/16/12  12/19/12  First Class   \n",
       "3   30193  IN-2012-PB19210127-41259   12/16/12  12/19/12  First Class   \n",
       "4   30189  IN-2012-PB19210127-41259   12/16/12  12/19/12  First Class   \n",
       "\n",
       "   customer.id   customer.name    segment  postal.code    city        state  \\\n",
       "0  PB-19210127  Phillip Breyer  Corporate          NaN  Taipei  Taipei City   \n",
       "1  PB-19210127  Phillip Breyer  Corporate          NaN  Taipei  Taipei City   \n",
       "2  PB-19210127  Phillip Breyer  Corporate          NaN  Taipei  Taipei City   \n",
       "3  PB-19210127  Phillip Breyer  Corporate          NaN  Taipei  Taipei City   \n",
       "4  PB-19210127  Phillip Breyer  Corporate          NaN  Taipei  Taipei City   \n",
       "\n",
       "  country        region        market   product.id    category sub.category  \\\n",
       "0  Taiwan  Eastern Asia  Asia Pacific  FUR-TA-5060   Furniture       Tables   \n",
       "1  Taiwan  Eastern Asia  Asia Pacific  FUR-BO-5762   Furniture    Bookcases   \n",
       "2  Taiwan  Eastern Asia  Asia Pacific  FUR-TA-5065   Furniture       Tables   \n",
       "3  Taiwan  Eastern Asia  Asia Pacific  FUR-CH-5454   Furniture       Chairs   \n",
       "4  Taiwan  Eastern Asia  Asia Pacific  TEC-MA-5494  Technology     Machines   \n",
       "\n",
       "                                  product.name    sales  quantity  discount  \\\n",
       "0  Lesro Conference Table, with Bottom Storage  1715.16         2       0.0   \n",
       "1                 Safco Classic Bookcase, Pine  2197.50         5       0.0   \n",
       "2       Lesro Round Table, with Bottom Storage  1356.03         3       0.0   \n",
       "3         Office Star Swivel Stool, Adjustable   882.15         5       0.0   \n",
       "4                      Okidata Calculator, Red   148.32         3       0.0   \n",
       "\n",
       "   profit  shipping.cost order.priority  new_profit  new_sales  year  \\\n",
       "0  720.36         725.57       Critical      720.36    1715.16  2012   \n",
       "1  153.75         627.27       Critical      153.75    2197.50  2012   \n",
       "2  311.85         458.97       Critical      311.85    1356.03  2012   \n",
       "3  114.60         203.92       Critical      114.60     882.15  2012   \n",
       "4   68.22          25.48       Critical       68.22     148.32  2012   \n",
       "\n",
       "   Order_Month  season Returned                  Order ID        Region  \\\n",
       "0           12  Winter      Yes  IN-2012-PB19210127-41259  Eastern Asia   \n",
       "1           12  Winter      Yes  IN-2012-PB19210127-41259  Eastern Asia   \n",
       "2           12  Winter      Yes  IN-2012-PB19210127-41259  Eastern Asia   \n",
       "3           12  Winter      Yes  IN-2012-PB19210127-41259  Eastern Asia   \n",
       "4           12  Winter      Yes  IN-2012-PB19210127-41259  Eastern Asia   \n",
       "\n",
       "   Unnamed: 3  Unnamed: 4  \n",
       "0         NaN         NaN  \n",
       "1         NaN         NaN  \n",
       "2         NaN         NaN  \n",
       "3         NaN         NaN  \n",
       "4         NaN         NaN  "
      ]
     },
     "execution_count": 163,
     "metadata": {},
     "output_type": "execute_result"
    }
   ],
   "source": [
    "merged_data.rename(columns = {'month': 'Order_Month'}, inplace = True)\n",
    "merged_data.head()"
   ]
  },
  {
   "cell_type": "markdown",
   "metadata": {},
   "source": [
    "4-e. Generate a categorical variable which indicates whether an order has been returned or not. (3 pts)"
   ]
  },
  {
   "cell_type": "code",
   "execution_count": null,
   "metadata": {},
   "outputs": [],
   "source": []
  },
  {
   "cell_type": "markdown",
   "metadata": {},
   "source": [
    "4-f. Generate a feature which can measure how long it takes the company to process each order. (Process.Time = Ship.Date - Order.Date) (3 pts)"
   ]
  },
  {
   "cell_type": "code",
   "execution_count": 166,
   "metadata": {},
   "outputs": [
    {
     "data": {
      "text/html": [
       "<div>\n",
       "<style scoped>\n",
       "    .dataframe tbody tr th:only-of-type {\n",
       "        vertical-align: middle;\n",
       "    }\n",
       "\n",
       "    .dataframe tbody tr th {\n",
       "        vertical-align: top;\n",
       "    }\n",
       "\n",
       "    .dataframe thead th {\n",
       "        text-align: right;\n",
       "    }\n",
       "</style>\n",
       "<table border=\"1\" class=\"dataframe\">\n",
       "  <thead>\n",
       "    <tr style=\"text-align: right;\">\n",
       "      <th></th>\n",
       "      <th>row.id</th>\n",
       "      <th>order.id</th>\n",
       "      <th>order.date</th>\n",
       "      <th>ship.date</th>\n",
       "      <th>ship.mode</th>\n",
       "      <th>customer.id</th>\n",
       "      <th>customer.name</th>\n",
       "      <th>segment</th>\n",
       "      <th>postal.code</th>\n",
       "      <th>city</th>\n",
       "      <th>state</th>\n",
       "      <th>country</th>\n",
       "      <th>region</th>\n",
       "      <th>market</th>\n",
       "      <th>product.id</th>\n",
       "      <th>category</th>\n",
       "      <th>sub.category</th>\n",
       "      <th>product.name</th>\n",
       "      <th>sales</th>\n",
       "      <th>quantity</th>\n",
       "      <th>discount</th>\n",
       "      <th>profit</th>\n",
       "      <th>shipping.cost</th>\n",
       "      <th>order.priority</th>\n",
       "      <th>new_profit</th>\n",
       "      <th>new_sales</th>\n",
       "      <th>year</th>\n",
       "      <th>Order_Month</th>\n",
       "      <th>season</th>\n",
       "      <th>Returned</th>\n",
       "      <th>Order ID</th>\n",
       "      <th>Region</th>\n",
       "      <th>Unnamed: 3</th>\n",
       "      <th>Unnamed: 4</th>\n",
       "      <th>Process.Time</th>\n",
       "    </tr>\n",
       "  </thead>\n",
       "  <tbody>\n",
       "    <tr>\n",
       "      <th>0</th>\n",
       "      <td>30191</td>\n",
       "      <td>IN-2012-PB19210127-41259</td>\n",
       "      <td>12/16/12</td>\n",
       "      <td>12/19/12</td>\n",
       "      <td>First Class</td>\n",
       "      <td>PB-19210127</td>\n",
       "      <td>Phillip Breyer</td>\n",
       "      <td>Corporate</td>\n",
       "      <td>NaN</td>\n",
       "      <td>Taipei</td>\n",
       "      <td>Taipei City</td>\n",
       "      <td>Taiwan</td>\n",
       "      <td>Eastern Asia</td>\n",
       "      <td>Asia Pacific</td>\n",
       "      <td>FUR-TA-5060</td>\n",
       "      <td>Furniture</td>\n",
       "      <td>Tables</td>\n",
       "      <td>Lesro Conference Table, with Bottom Storage</td>\n",
       "      <td>1715.16</td>\n",
       "      <td>2</td>\n",
       "      <td>0.0</td>\n",
       "      <td>720.36</td>\n",
       "      <td>725.57</td>\n",
       "      <td>Critical</td>\n",
       "      <td>720.36</td>\n",
       "      <td>1715.16</td>\n",
       "      <td>2012</td>\n",
       "      <td>12</td>\n",
       "      <td>Winter</td>\n",
       "      <td>Yes</td>\n",
       "      <td>IN-2012-PB19210127-41259</td>\n",
       "      <td>Eastern Asia</td>\n",
       "      <td>NaN</td>\n",
       "      <td>NaN</td>\n",
       "      <td>3 days</td>\n",
       "    </tr>\n",
       "    <tr>\n",
       "      <th>1</th>\n",
       "      <td>30190</td>\n",
       "      <td>IN-2012-PB19210127-41259</td>\n",
       "      <td>12/16/12</td>\n",
       "      <td>12/19/12</td>\n",
       "      <td>First Class</td>\n",
       "      <td>PB-19210127</td>\n",
       "      <td>Phillip Breyer</td>\n",
       "      <td>Corporate</td>\n",
       "      <td>NaN</td>\n",
       "      <td>Taipei</td>\n",
       "      <td>Taipei City</td>\n",
       "      <td>Taiwan</td>\n",
       "      <td>Eastern Asia</td>\n",
       "      <td>Asia Pacific</td>\n",
       "      <td>FUR-BO-5762</td>\n",
       "      <td>Furniture</td>\n",
       "      <td>Bookcases</td>\n",
       "      <td>Safco Classic Bookcase, Pine</td>\n",
       "      <td>2197.50</td>\n",
       "      <td>5</td>\n",
       "      <td>0.0</td>\n",
       "      <td>153.75</td>\n",
       "      <td>627.27</td>\n",
       "      <td>Critical</td>\n",
       "      <td>153.75</td>\n",
       "      <td>2197.50</td>\n",
       "      <td>2012</td>\n",
       "      <td>12</td>\n",
       "      <td>Winter</td>\n",
       "      <td>Yes</td>\n",
       "      <td>IN-2012-PB19210127-41259</td>\n",
       "      <td>Eastern Asia</td>\n",
       "      <td>NaN</td>\n",
       "      <td>NaN</td>\n",
       "      <td>3 days</td>\n",
       "    </tr>\n",
       "    <tr>\n",
       "      <th>2</th>\n",
       "      <td>30187</td>\n",
       "      <td>IN-2012-PB19210127-41259</td>\n",
       "      <td>12/16/12</td>\n",
       "      <td>12/19/12</td>\n",
       "      <td>First Class</td>\n",
       "      <td>PB-19210127</td>\n",
       "      <td>Phillip Breyer</td>\n",
       "      <td>Corporate</td>\n",
       "      <td>NaN</td>\n",
       "      <td>Taipei</td>\n",
       "      <td>Taipei City</td>\n",
       "      <td>Taiwan</td>\n",
       "      <td>Eastern Asia</td>\n",
       "      <td>Asia Pacific</td>\n",
       "      <td>FUR-TA-5065</td>\n",
       "      <td>Furniture</td>\n",
       "      <td>Tables</td>\n",
       "      <td>Lesro Round Table, with Bottom Storage</td>\n",
       "      <td>1356.03</td>\n",
       "      <td>3</td>\n",
       "      <td>0.0</td>\n",
       "      <td>311.85</td>\n",
       "      <td>458.97</td>\n",
       "      <td>Critical</td>\n",
       "      <td>311.85</td>\n",
       "      <td>1356.03</td>\n",
       "      <td>2012</td>\n",
       "      <td>12</td>\n",
       "      <td>Winter</td>\n",
       "      <td>Yes</td>\n",
       "      <td>IN-2012-PB19210127-41259</td>\n",
       "      <td>Eastern Asia</td>\n",
       "      <td>NaN</td>\n",
       "      <td>NaN</td>\n",
       "      <td>3 days</td>\n",
       "    </tr>\n",
       "    <tr>\n",
       "      <th>3</th>\n",
       "      <td>30193</td>\n",
       "      <td>IN-2012-PB19210127-41259</td>\n",
       "      <td>12/16/12</td>\n",
       "      <td>12/19/12</td>\n",
       "      <td>First Class</td>\n",
       "      <td>PB-19210127</td>\n",
       "      <td>Phillip Breyer</td>\n",
       "      <td>Corporate</td>\n",
       "      <td>NaN</td>\n",
       "      <td>Taipei</td>\n",
       "      <td>Taipei City</td>\n",
       "      <td>Taiwan</td>\n",
       "      <td>Eastern Asia</td>\n",
       "      <td>Asia Pacific</td>\n",
       "      <td>FUR-CH-5454</td>\n",
       "      <td>Furniture</td>\n",
       "      <td>Chairs</td>\n",
       "      <td>Office Star Swivel Stool, Adjustable</td>\n",
       "      <td>882.15</td>\n",
       "      <td>5</td>\n",
       "      <td>0.0</td>\n",
       "      <td>114.60</td>\n",
       "      <td>203.92</td>\n",
       "      <td>Critical</td>\n",
       "      <td>114.60</td>\n",
       "      <td>882.15</td>\n",
       "      <td>2012</td>\n",
       "      <td>12</td>\n",
       "      <td>Winter</td>\n",
       "      <td>Yes</td>\n",
       "      <td>IN-2012-PB19210127-41259</td>\n",
       "      <td>Eastern Asia</td>\n",
       "      <td>NaN</td>\n",
       "      <td>NaN</td>\n",
       "      <td>3 days</td>\n",
       "    </tr>\n",
       "    <tr>\n",
       "      <th>4</th>\n",
       "      <td>30189</td>\n",
       "      <td>IN-2012-PB19210127-41259</td>\n",
       "      <td>12/16/12</td>\n",
       "      <td>12/19/12</td>\n",
       "      <td>First Class</td>\n",
       "      <td>PB-19210127</td>\n",
       "      <td>Phillip Breyer</td>\n",
       "      <td>Corporate</td>\n",
       "      <td>NaN</td>\n",
       "      <td>Taipei</td>\n",
       "      <td>Taipei City</td>\n",
       "      <td>Taiwan</td>\n",
       "      <td>Eastern Asia</td>\n",
       "      <td>Asia Pacific</td>\n",
       "      <td>TEC-MA-5494</td>\n",
       "      <td>Technology</td>\n",
       "      <td>Machines</td>\n",
       "      <td>Okidata Calculator, Red</td>\n",
       "      <td>148.32</td>\n",
       "      <td>3</td>\n",
       "      <td>0.0</td>\n",
       "      <td>68.22</td>\n",
       "      <td>25.48</td>\n",
       "      <td>Critical</td>\n",
       "      <td>68.22</td>\n",
       "      <td>148.32</td>\n",
       "      <td>2012</td>\n",
       "      <td>12</td>\n",
       "      <td>Winter</td>\n",
       "      <td>Yes</td>\n",
       "      <td>IN-2012-PB19210127-41259</td>\n",
       "      <td>Eastern Asia</td>\n",
       "      <td>NaN</td>\n",
       "      <td>NaN</td>\n",
       "      <td>3 days</td>\n",
       "    </tr>\n",
       "  </tbody>\n",
       "</table>\n",
       "</div>"
      ],
      "text/plain": [
       "   row.id                  order.id order.date ship.date    ship.mode  \\\n",
       "0   30191  IN-2012-PB19210127-41259   12/16/12  12/19/12  First Class   \n",
       "1   30190  IN-2012-PB19210127-41259   12/16/12  12/19/12  First Class   \n",
       "2   30187  IN-2012-PB19210127-41259   12/16/12  12/19/12  First Class   \n",
       "3   30193  IN-2012-PB19210127-41259   12/16/12  12/19/12  First Class   \n",
       "4   30189  IN-2012-PB19210127-41259   12/16/12  12/19/12  First Class   \n",
       "\n",
       "   customer.id   customer.name    segment  postal.code    city        state  \\\n",
       "0  PB-19210127  Phillip Breyer  Corporate          NaN  Taipei  Taipei City   \n",
       "1  PB-19210127  Phillip Breyer  Corporate          NaN  Taipei  Taipei City   \n",
       "2  PB-19210127  Phillip Breyer  Corporate          NaN  Taipei  Taipei City   \n",
       "3  PB-19210127  Phillip Breyer  Corporate          NaN  Taipei  Taipei City   \n",
       "4  PB-19210127  Phillip Breyer  Corporate          NaN  Taipei  Taipei City   \n",
       "\n",
       "  country        region        market   product.id    category sub.category  \\\n",
       "0  Taiwan  Eastern Asia  Asia Pacific  FUR-TA-5060   Furniture       Tables   \n",
       "1  Taiwan  Eastern Asia  Asia Pacific  FUR-BO-5762   Furniture    Bookcases   \n",
       "2  Taiwan  Eastern Asia  Asia Pacific  FUR-TA-5065   Furniture       Tables   \n",
       "3  Taiwan  Eastern Asia  Asia Pacific  FUR-CH-5454   Furniture       Chairs   \n",
       "4  Taiwan  Eastern Asia  Asia Pacific  TEC-MA-5494  Technology     Machines   \n",
       "\n",
       "                                  product.name    sales  quantity  discount  \\\n",
       "0  Lesro Conference Table, with Bottom Storage  1715.16         2       0.0   \n",
       "1                 Safco Classic Bookcase, Pine  2197.50         5       0.0   \n",
       "2       Lesro Round Table, with Bottom Storage  1356.03         3       0.0   \n",
       "3         Office Star Swivel Stool, Adjustable   882.15         5       0.0   \n",
       "4                      Okidata Calculator, Red   148.32         3       0.0   \n",
       "\n",
       "   profit  shipping.cost order.priority  new_profit  new_sales  year  \\\n",
       "0  720.36         725.57       Critical      720.36    1715.16  2012   \n",
       "1  153.75         627.27       Critical      153.75    2197.50  2012   \n",
       "2  311.85         458.97       Critical      311.85    1356.03  2012   \n",
       "3  114.60         203.92       Critical      114.60     882.15  2012   \n",
       "4   68.22          25.48       Critical       68.22     148.32  2012   \n",
       "\n",
       "   Order_Month  season Returned                  Order ID        Region  \\\n",
       "0           12  Winter      Yes  IN-2012-PB19210127-41259  Eastern Asia   \n",
       "1           12  Winter      Yes  IN-2012-PB19210127-41259  Eastern Asia   \n",
       "2           12  Winter      Yes  IN-2012-PB19210127-41259  Eastern Asia   \n",
       "3           12  Winter      Yes  IN-2012-PB19210127-41259  Eastern Asia   \n",
       "4           12  Winter      Yes  IN-2012-PB19210127-41259  Eastern Asia   \n",
       "\n",
       "   Unnamed: 3  Unnamed: 4 Process.Time  \n",
       "0         NaN         NaN       3 days  \n",
       "1         NaN         NaN       3 days  \n",
       "2         NaN         NaN       3 days  \n",
       "3         NaN         NaN       3 days  \n",
       "4         NaN         NaN       3 days  "
      ]
     },
     "execution_count": 166,
     "metadata": {},
     "output_type": "execute_result"
    }
   ],
   "source": [
    "merged_data['Process.Time'] = pd.to_datetime(merged_data['ship.date']) - pd.to_datetime(merged_data['order.date'])\n",
    "\n",
    "merged_data.head()"
   ]
  },
  {
   "cell_type": "markdown",
   "metadata": {},
   "source": [
    "4-g. Generate a feature indictes how many times the product has been returned before. (3 pts)"
   ]
  },
  {
   "cell_type": "code",
   "execution_count": null,
   "metadata": {},
   "outputs": [],
   "source": []
  },
  {
   "cell_type": "markdown",
   "metadata": {},
   "source": [
    "### 5. Classification Problem. (35 pts)\n",
    "In this problem, the task is to classify using a given data set, `Data1_Class.csv`, with two features, $X$ and $Y$, and class labels. "
   ]
  },
  {
   "cell_type": "code",
   "execution_count": 43,
   "metadata": {},
   "outputs": [],
   "source": [
    "import pandas as pd\n",
    "import numpy as np \n",
    "import matplotlib.pyplot as plt "
   ]
  },
  {
   "cell_type": "code",
   "execution_count": 44,
   "metadata": {},
   "outputs": [],
   "source": [
    "Data1=pd.read_csv('Data1_Class.csv')"
   ]
  },
  {
   "cell_type": "code",
   "execution_count": 45,
   "metadata": {},
   "outputs": [
    {
     "data": {
      "image/png": "[encoded data removed]",
      "text/plain": [
       "<Figure size 432x288 with 1 Axes>"
      ]
     },
     "metadata": {
      "needs_background": "light"
     },
     "output_type": "display_data"
    }
   ],
   "source": [
    "plt.scatter(Data1['X'], Data1['Y'], c=Data1['Class'], marker = '.') \n",
    "plt.ylabel('Y')\n",
    "plt.xlabel('X')\n",
    "plt.show() "
   ]
  },
  {
   "cell_type": "markdown",
   "metadata": {},
   "source": [
    "5-a: From the visual inspection above, explain how you can make a classifier without Kernel. [5 pts]"
   ]
  },
  {
   "cell_type": "markdown",
   "metadata": {},
   "source": [
    "From the visual inspection above, my first instinct is to use a K-nearest neighbors algorithm to classify the data. This is because the data points seems to be separated/localized into two different regions."
   ]
  },
  {
   "cell_type": "markdown",
   "metadata": {},
   "source": [
    "5-b: Do EDA and feature engineering as you explained in 5-a and call the new dataframe as `Data1_training`. [10 pts]"
   ]
  },
  {
   "cell_type": "code",
   "execution_count": 57,
   "metadata": {},
   "outputs": [],
   "source": [
    "from sklearn.model_selection import train_test_split\n",
    "from sklearn.preprocessing import StandardScaler\n",
    "\n",
    "X_train, X_test, y_train, y_test = train_test_split(Data1.iloc[:,2:], \n",
    "                                                    Data1.iloc[:,1], \n",
    "                                                    train_size = 0.8, test_size = 0.2, random_state=1)\n"
   ]
  },
  {
   "cell_type": "code",
   "execution_count": 58,
   "metadata": {},
   "outputs": [],
   "source": [
    "from sklearn.neighbors import KNeighborsClassifier\n",
    "knn=KNeighborsClassifier(n_neighbors=5, p=2, metric='minkowski')"
   ]
  },
  {
   "cell_type": "code",
   "execution_count": 59,
   "metadata": {},
   "outputs": [
    {
     "data": {
      "text/plain": [
       "0.99"
      ]
     },
     "execution_count": 59,
     "metadata": {},
     "output_type": "execute_result"
    }
   ],
   "source": [
    "knn.fit(X_train, y_train)\n",
    "\n",
    "knn.predict(X_test)\n",
    "\n",
    "knn.score(X_test, y_test)"
   ]
  },
  {
   "cell_type": "markdown",
   "metadata": {},
   "source": [
    "5-c: Using new `Data1_training`, perform the classification using Logistic Regression. [5 pts]"
   ]
  },
  {
   "cell_type": "code",
   "execution_count": 153,
   "metadata": {},
   "outputs": [],
   "source": [
    "from sklearn.linear_model import LogisticRegression\n",
    "from sklearn.metrics import classification_report, confusion_matrix"
   ]
  },
  {
   "cell_type": "code",
   "execution_count": 154,
   "metadata": {},
   "outputs": [],
   "source": [
    "from sklearn.model_selection import train_test_split\n",
    "from sklearn.preprocessing import StandardScaler\n",
    "\n",
    "X_train, X_test, y_train, y_test = train_test_split(Data1.iloc[:,2:], \n",
    "                                                    Data1.iloc[:,1], \n",
    "                                                    train_size = 0.8, test_size = 0.2, random_state=1)\n"
   ]
  },
  {
   "cell_type": "code",
   "execution_count": 155,
   "metadata": {},
   "outputs": [
    {
     "data": {
      "text/plain": [
       "LogisticRegression()"
      ]
     },
     "execution_count": 155,
     "metadata": {},
     "output_type": "execute_result"
    }
   ],
   "source": [
    "model1 = LogisticRegression()\n",
    "model1.fit(X_train, y_train)"
   ]
  },
  {
   "cell_type": "code",
   "execution_count": 156,
   "metadata": {},
   "outputs": [],
   "source": [
    "y_pred = model1.predict(X_test)"
   ]
  },
  {
   "cell_type": "code",
   "execution_count": 157,
   "metadata": {},
   "outputs": [
    {
     "data": {
      "text/plain": [
       "0.415"
      ]
     },
     "execution_count": 157,
     "metadata": {},
     "output_type": "execute_result"
    }
   ],
   "source": [
    "model1.score(X_test, y_test)"
   ]
  },
  {
   "cell_type": "markdown",
   "metadata": {},
   "source": [
    "5-d: How would you classify directly without any pre-processing? Explain. [5 pts]"
   ]
  },
  {
   "cell_type": "markdown",
   "metadata": {},
   "source": [
    "One classification method that does not require preprosessing is the decision tree classification method.  \n",
    "\n",
    "The decision tree classification method uses a tree-like algorithm, which does not require scaling or normalization."
   ]
  },
  {
   "cell_type": "markdown",
   "metadata": {},
   "source": [
    "5-e: perform the classification as explained in 5-d. [10 pts]"
   ]
  },
  {
   "cell_type": "code",
   "execution_count": 151,
   "metadata": {},
   "outputs": [
    {
     "name": "stdout",
     "output_type": "stream",
     "text": [
      "0.945\n"
     ]
    }
   ],
   "source": [
    "from sklearn.tree import DecisionTreeClassifier\n",
    "from sklearn.metrics import accuracy_score\n",
    "\n",
    "dt = DecisionTreeClassifier()\n",
    "dt.fit(X_train, y_train)\n",
    "y_pred = dt.predict(X_test)\n",
    "\n",
    "print(accuracy_score(y_test, y_pred))"
   ]
  },
  {
   "cell_type": "code",
   "execution_count": null,
   "metadata": {},
   "outputs": [],
   "source": []
  }
 ],
 "metadata": {
  "kernelspec": {
   "display_name": "Python 3",
   "language": "python",
   "name": "python3"
  },
  "language_info": {
   "codemirror_mode": {
    "name": "ipython",
    "version": 3
   },
   "file_extension": ".py",
   "mimetype": "text/x-python",
   "name": "python",
   "nbconvert_exporter": "python",
   "pygments_lexer": "ipython3",
   "version": "3.8.0"
  }
 },
 "nbformat": 4,
 "nbformat_minor": 4
}
