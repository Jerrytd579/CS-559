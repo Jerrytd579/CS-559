{
 "cells": [
  {
   "cell_type": "markdown",
   "metadata": {},
   "source": [
    "## CS559: Homework #1\n",
    "Jerry Cheng"
   ]
  },
  {
   "cell_type": "markdown",
   "metadata": {},
   "source": [
    "Assignment #1: due on **2/23/2021 by 11:59 PM**. \n",
    "- Change the file name as *YourName*_S21_CS559_HW1\n",
    "- Submit the assignment both in format of *ipynb* and *html*. \n",
    "    - You can export the file as *html* as `File`>`Download as`>`HTML`. The assignment should be own work and must not be shared between classmates. \n",
    "- You **do not need to compress** the files. You can submit individual files.\n",
    "- This assignment focuses on two topics - linear algebra and data pre-processing. \n",
    "    - For linear algebra questions, when the question says \"implement\", you cannot use any built-in functions.\n",
    "- This assignment should an individual work. Do not collaborate with classmates or get help from 3rd person. You may surf internet if you need to. Then site the reference. "
   ]
  },
  {
   "cell_type": "markdown",
   "metadata": {},
   "source": [
    "### Problem 1 [10 pts]\n",
    "- Implement a function `dot_product` to calculate the dot product of two 1 by n arrays. [6 pts] \n",
    "```\n",
    "a = array([1, 2, 3, 4])\n",
    "b = array([2, 3, 4, 5])\n",
    "dot_product(a,b) = 40\n",
    "```"
   ]
  },
  {
   "cell_type": "code",
   "execution_count": 4,
   "metadata": {},
   "outputs": [],
   "source": [
    "### Code Starts Here\n",
    "def dot_product(a,b):\n",
    "    if(a.size != b.size): raise Exception(\"Error: array a must be the same length as array b.\")\n",
    "        \n",
    "    answer = 0\n",
    "    for num1,num2 in zip(a, b):\n",
    "        answer += (num1 * num2)\n",
    "    \n",
    "    return answer;\n",
    "        \n",
    "    "
   ]
  },
  {
   "cell_type": "markdown",
   "metadata": {},
   "source": [
    "- Test your code after generating two random 1 by 10 arrays. [4 pts]\n"
   ]
  },
  {
   "cell_type": "code",
   "execution_count": 24,
   "metadata": {},
   "outputs": [
    {
     "name": "stdout",
     "output_type": "stream",
     "text": [
      "207\n"
     ]
    }
   ],
   "source": [
    "### Code Starts Here\n",
    "import numpy as np\n",
    "answer = 0\n",
    "\n",
    "array1 = np.random.randint(1,10,10);\n",
    "array2 = np.random.randint(1,10,10);\n",
    "\n",
    "#print('Array 1: ',array1, 'Array 2: ', array2)\n",
    "print(dot_product(array1, array2))"
   ]
  },
  {
   "cell_type": "markdown",
   "metadata": {},
   "source": [
    "### Problem 2 [10 pts]\n",
    "- Consider three vectors ${\\bf x}_1=(1,3), {\\bf x}_2=(-1,5)$, and ${\\bf x}_3=(0,7)$. Find the distance of each point from the **origin**. [4 pts]"
   ]
  },
  {
   "cell_type": "code",
   "execution_count": 25,
   "metadata": {},
   "outputs": [
    {
     "name": "stdout",
     "output_type": "stream",
     "text": [
      "Distance from x1 to the origin:  3.1622776601683795\n",
      "Distance from x2 to the origin:  5.0990195135927845\n",
      "Distance from x3 to the origin:  7.0\n"
     ]
    }
   ],
   "source": [
    "### Code Starts Here\n",
    "import math\n",
    "# Assuming that the origin is simply (0,0)\n",
    "\n",
    "print(\"Distance from x1 to the origin: \", math.sqrt((math.pow(1, 2) + math.pow(3, 2))))\n",
    "print(\"Distance from x2 to the origin: \", math.sqrt((math.pow(-1, 2) + math.pow(5, 2))))\n",
    "print(\"Distance from x3 to the origin: \", math.sqrt((math.pow(0, 2) + math.pow(7, 2))))"
   ]
  },
  {
   "cell_type": "markdown",
   "metadata": {},
   "source": [
    "- Rotate the coordinates by 35 degress in counter clockwise. [4 pts]"
   ]
  },
  {
   "cell_type": "code",
   "execution_count": 26,
   "metadata": {},
   "outputs": [
    {
     "name": "stdout",
     "output_type": "stream",
     "text": [
      "X1 rotated 35 degrees counter-clockwise: (-0.9015772647641463, 3.0310325692180213)\n",
      "X2 rotated 35 degrees counter-clockwise: (-3.687034226044222, 3.5221837850939126)\n",
      "X3 rotated 35 degrees counter-clockwise: (-4.015035054457322, 5.7340643100229425)\n"
     ]
    }
   ],
   "source": [
    "### Code Starts Here\n",
    "import math\n",
    "\n",
    "def rotateCCdegrees(x, y, angle):\n",
    "    angle = math.radians(angle)\n",
    "    newx = (x * math.cos(angle)) - (y * math.sin(angle))\n",
    "    newy = (x * math.sin(angle)) + (y * math.cos(angle))\n",
    "    \n",
    "    return (newx,newy)\n",
    "\n",
    "print(\"X1 rotated 35 degrees counter-clockwise:\", rotateCCdegrees(1,3, 35))\n",
    "print(\"X2 rotated 35 degrees counter-clockwise:\", rotateCCdegrees(-1,5, 35))\n",
    "print(\"X3 rotated 35 degrees counter-clockwise:\", rotateCCdegrees(0,7, 35))"
   ]
  },
  {
   "cell_type": "markdown",
   "metadata": {},
   "source": [
    "- Magnify the area by 4 times. [2 pts]"
   ]
  },
  {
   "cell_type": "code",
   "execution_count": 27,
   "metadata": {},
   "outputs": [
    {
     "name": "stdout",
     "output_type": "stream",
     "text": [
      "x1 magnified 4 times:  (4, 12)\n",
      "x2 magnified 4 times:  (-4, 20)\n",
      "x3 magnified 4 times:  (0, 28)\n"
     ]
    }
   ],
   "source": [
    "### Code Starts Here\n",
    "def magnify4(x,y):\n",
    "    return (x*4, y*4)\n",
    "print(\"x1 magnified 4 times: \", magnify4(1,3))\n",
    "print(\"x2 magnified 4 times: \", magnify4(-1,5))\n",
    "print(\"x3 magnified 4 times: \", magnify4(0,7))\n"
   ]
  },
  {
   "cell_type": "markdown",
   "metadata": {},
   "source": [
    "### Problem 3 [20 pts]\n",
    "- Implement a function `mat_product` to calculate the matrix product of two n by n arrays. [8 pts] For example:\n",
    "\n",
    "\n",
    "$A = \\begin{bmatrix} 1 & 3 & 0 \\\\ 2 & 0 & 2 \\\\ 1 & 1 & 4 \\end{bmatrix}$ and $A\\cdot A=\\begin{bmatrix} 7 & 3 & 6 \\\\ 4 & 8 & 8 \\\\ 7 & 8 & 18 \\end{bmatrix}$\n",
    "\n",
    "    mat_product(A,A)=?"
   ]
  },
  {
   "cell_type": "code",
   "execution_count": 28,
   "metadata": {},
   "outputs": [],
   "source": [
    "### Code Starts Here\n",
    "# Reference algorithm: https://www.geeksforgeeks.org/python-program-multiply-two-matrices/\n",
    "# Reference: intialize result: https://www.geeksforgeeks.org/multiplication-two-matrices-single-line-using-numpy-python/#:~:text=Methods%20to%20multiply%20two%20matrices%20in%20python.%201.Using,and%20matrix2%20is%20a%20m%20x%20l%20matrix.\n",
    "def mat_product(a, b):  \n",
    "    result = [[0 for col in range(len(a))] for row in range(len(b[0]))]\n",
    "    \n",
    "    for i in range(len(a)):  \n",
    "        for j in range(len(b[0])): \n",
    "            for k in range(len(b)): \n",
    "                result[i][j] += a[i][k] * b[k][j] \n",
    "    return result"
   ]
  },
  {
   "cell_type": "markdown",
   "metadata": {},
   "source": [
    "- Test your code after generating two random 4 by 4 matrices, ${\\bf X}$ and ${\\bf Y}$. [4 pts]"
   ]
  },
  {
   "cell_type": "code",
   "execution_count": 29,
   "metadata": {},
   "outputs": [
    {
     "name": "stdout",
     "output_type": "stream",
     "text": [
      "Random matrix 1: \n",
      " [[1 3 3 2 4]\n",
      " [3 7 3 7 6]\n",
      " [9 5 9 3 1]\n",
      " [2 6 8 0 8]]\n",
      "Random matrix 2: \n",
      " [[8 3 3 0]\n",
      " [3 0 6 0]\n",
      " [2 2 6 4]\n",
      " [9 7 3 7]\n",
      " [5 3 3 6]]\n",
      "Random matrix 1 * random matrix 2 \n",
      " [[61, 35, 57, 50], [144, 82, 108, 97], [137, 69, 123, 63], [90, 46, 114, 80]]\n"
     ]
    }
   ],
   "source": [
    "### Test Starts Here\n",
    "import numpy as np\n",
    "\n",
    "randomArray1 = np.random.randint(10,size=(4,5))\n",
    "randomArray2 = np.random.randint(10,size=(5,4))\n",
    "\n",
    "a =    [[1,3,0], \n",
    "        [2,0,2], \n",
    "        [1,1,4]] \n",
    "\n",
    "print(\"Random matrix 1: \\n\",randomArray1)\n",
    "print(\"Random matrix 2: \\n\",randomArray2)\n",
    "print(\"Random matrix 1 * random matrix 2 \\n\", mat_product(randomArray1, randomArray2))\n",
    "#print(\"Example A matrix * example A \\n\", mat_product(a, a))"
   ]
  },
  {
   "cell_type": "markdown",
   "metadata": {},
   "source": [
    "- Inplement a function `mat_transpose` that transposes ${\\bf X}$ and use the `mat_product` function to find the matrice of product: $Z={\\bf X}^T\\cdot{\\bf Y}$ [8 pts]\n",
    "\n",
    "        Z=mat_product(mat_transpose(X),Y)"
   ]
  },
  {
   "cell_type": "code",
   "execution_count": 30,
   "metadata": {},
   "outputs": [
    {
     "name": "stdout",
     "output_type": "stream",
     "text": [
      "[[1, 3, 0], [2, 0, 2], [1, 1, 4]]\n",
      "[[1, 2, 1], [3, 0, 1], [0, 2, 4]]\n",
      "[[6, 4, 8], [4, 10, 4], [8, 4, 20]]\n"
     ]
    }
   ],
   "source": [
    "### Code Starts Here\n",
    "def mat_transpose(matrix):\n",
    "    result = [[0 for col in range(len(matrix))] for row in range(len(matrix[0]))]\n",
    "    \n",
    "    for i in range(len(matrix)):\n",
    "        for j in range(len(matrix[0])):\n",
    "              result[j][i] = matrix[i][j]\n",
    "    \n",
    "    return result\n",
    "\n",
    "a =    [[1,3,0], \n",
    "        [2,0,2], \n",
    "        [1,1,4]] \n",
    "a_transpose = mat_transpose(a)\n",
    "z=mat_product(mat_transpose(a), a)\n",
    "print(a)\n",
    "print(a_transpose)\n",
    "print(z)"
   ]
  },
  {
   "cell_type": "markdown",
   "metadata": {},
   "source": [
    "### Problem 4 [30 pts]\n",
    "- In this question, we will use the csv file **Temp.csv**. This question task is a process of exploratory data ansysis (EDA) to learn about data itself. Read it into a data frame, call it `Temp`. (Import the packages you think you need). [4 pts]"
   ]
  },
  {
   "cell_type": "code",
   "execution_count": 31,
   "metadata": {},
   "outputs": [
    {
     "name": "stdout",
     "output_type": "stream",
     "text": [
      "         City        State  Temperature\n",
      "0         NYC     New York           67\n",
      "1      Albany     New York           49\n",
      "2     Buffalo     New York           38\n",
      "3    Hartford  Connecticut           63\n",
      "4  Bridgeport  Connecticut           58\n",
      "5      Treton   New Jersey           72\n",
      "6      Newark   New Jersey           68\n"
     ]
    }
   ],
   "source": [
    "### Code Starts Here\n",
    "import pandas as pd\n",
    "\n",
    "Temp = pd.read_csv('Temp.csv')\n",
    "Temperature = pd.read_csv('Temp.csv')\n",
    "\n",
    "print(Temp)"
   ]
  },
  {
   "cell_type": "markdown",
   "metadata": {},
   "source": [
    "- We learned that the temperature at New Haven, Connecticut is currently 58 degree fahrenheit. Add this information into the DataFrame.[4 pts]"
   ]
  },
  {
   "cell_type": "code",
   "execution_count": 32,
   "metadata": {},
   "outputs": [
    {
     "name": "stdout",
     "output_type": "stream",
     "text": [
      "         City        State  Temperature\n",
      "0         NYC     New York           67\n",
      "1      Albany     New York           49\n",
      "2     Buffalo     New York           38\n",
      "3    Hartford  Connecticut           63\n",
      "4  Bridgeport  Connecticut           58\n",
      "5      Treton   New Jersey           72\n",
      "6      Newark   New Jersey           68\n",
      "0   New Haven  Connecticut           58\n"
     ]
    }
   ],
   "source": [
    "### Code Starts Here\n",
    "\n",
    "Temp = Temp.append(pd.DataFrame({'City':['New Haven'], \n",
    "                                 'State':['Connecticut'],\n",
    "                                 'Temperature':[58],\n",
    "                                }))\n",
    "print(Temp)"
   ]
  },
  {
   "cell_type": "markdown",
   "metadata": {},
   "source": [
    "- Replace the names of the states by their abbreviations. [4 pts] That is \n",
    "    - Connecticut --> CT\n",
    "    - New Jersey  --> NJ\n",
    "    - New York    --> NY"
   ]
  },
  {
   "cell_type": "code",
   "execution_count": 33,
   "metadata": {},
   "outputs": [
    {
     "name": "stdout",
     "output_type": "stream",
     "text": [
      "         City State  Temperature\n",
      "0         NYC    NY           67\n",
      "1      Albany    NY           49\n",
      "2     Buffalo    NY           38\n",
      "3    Hartford    CT           63\n",
      "4  Bridgeport    CT           58\n",
      "5      Treton    NJ           72\n",
      "6      Newark    NJ           68\n",
      "0   New Haven    CT           58\n"
     ]
    }
   ],
   "source": [
    "### Code Starts Here\n",
    "Temp = Temp.replace(to_replace =\"New York\", \n",
    "                 value  =\"NY\") \n",
    "Temp = Temp.replace(to_replace =\"Connecticut\", \n",
    "                 value  =\"CT\") \n",
    "Temp = Temp.replace(to_replace =\"New Jersey\", \n",
    "                 value  =\"NJ\") \n",
    "\n",
    "print(Temp)"
   ]
  },
  {
   "cell_type": "markdown",
   "metadata": {},
   "source": [
    "- Select the rows in New York. [2 pts]"
   ]
  },
  {
   "cell_type": "code",
   "execution_count": 34,
   "metadata": {},
   "outputs": [
    {
     "name": "stdout",
     "output_type": "stream",
     "text": [
      "      City State  Temperature\n",
      "0      NYC    NY           67\n",
      "1   Albany    NY           49\n",
      "2  Buffalo    NY           38\n"
     ]
    }
   ],
   "source": [
    "### Code Starts Here\n",
    "tempNY = Temp[Temp['State'] == 'NY']\n",
    "\n",
    "print(tempNY)"
   ]
  },
  {
   "cell_type": "markdown",
   "metadata": {},
   "source": [
    "- What is the average of the temperature of cities in NY? [4 pts]"
   ]
  },
  {
   "cell_type": "code",
   "execution_count": 35,
   "metadata": {},
   "outputs": [
    {
     "name": "stdout",
     "output_type": "stream",
     "text": [
      "51.333333333333336\n"
     ]
    }
   ],
   "source": [
    "### Code Starts Here\n",
    "temp_NY = Temp.loc[Temp['State'] == 'NY']\n",
    "mean_temp_NY = temp_NY['Temperature'].mean()\n",
    "\n",
    "print(mean_temp_NY)\n"
   ]
  },
  {
   "cell_type": "markdown",
   "metadata": {},
   "source": [
    "- Find the mean and the standard deviation of the temperature of each state. [4 pts]"
   ]
  },
  {
   "cell_type": "code",
   "execution_count": 36,
   "metadata": {},
   "outputs": [
    {
     "name": "stdout",
     "output_type": "stream",
     "text": [
      "mean temp New York:  51.333333333333336\n",
      "std temp New York:  14.6401275039985\n",
      "mean temp New Jersey:  70.0\n",
      "std temp New Jersey:  2.8284271247461903\n",
      "mean temp Connecticut:  59.666666666666664\n",
      "std temp Connecticut:  2.8867513459481287\n"
     ]
    }
   ],
   "source": [
    "### Code Starts Here\n",
    "temp_NY = Temp.loc[Temp['State'] == 'NY']\n",
    "mean_temp_NY = temp_NY['Temperature'].mean()\n",
    "std_temp_NY = temp_NY['Temperature'].std()\n",
    "\n",
    "\n",
    "print(\"mean temp New York: \", mean_temp_NY)\n",
    "print(\"std temp New York: \", std_temp_NY)\n",
    "\n",
    "temp_NJ = Temp.loc[Temp['State'] == 'NJ']\n",
    "mean_temp_NJ = temp_NJ['Temperature'].mean()\n",
    "std_temp_NJ = temp_NJ['Temperature'].std()\n",
    "\n",
    "print(\"mean temp New Jersey: \", mean_temp_NJ)\n",
    "print(\"std temp New Jersey: \", std_temp_NJ)\n",
    "\n",
    "temp_CT = Temp.loc[Temp['State'] == 'CT']\n",
    "mean_temp_CT = temp_CT['Temperature'].mean()\n",
    "std_temp_CT = temp_CT['Temperature'].std()\n",
    "\n",
    "print(\"mean temp Connecticut: \", mean_temp_CT)\n",
    "print(\"std temp Connecticut: \", std_temp_CT)"
   ]
  },
  {
   "cell_type": "markdown",
   "metadata": {},
   "source": [
    "- Create a data frame `Capital`, with two columns: State and Capital. [4 pts] \n",
    "\n",
    "    We know the capital of each state: \n",
    "    - Connecticut --> Hartford\n",
    "    - New Jersey  --> Treton\n",
    "    - New York    --> Albany\n",
    "    \n",
    "|| State| Capital|\n",
    "| :-: |:---: | :---:|\n",
    "| 0| CT  | Hartford|\n",
    "| 1| NJ | Treton|\n",
    "| 2| NY| Albany|"
   ]
  },
  {
   "cell_type": "code",
   "execution_count": 37,
   "metadata": {},
   "outputs": [
    {
     "name": "stdout",
     "output_type": "stream",
     "text": [
      "  State   Capital\n",
      "0    CT  Hartford\n",
      "1    NJ    Treton\n",
      "2    NY    Albany\n"
     ]
    }
   ],
   "source": [
    "### Code Starts Here\n",
    "capitalData = {'State':   ['CT', 'NJ', 'NY'],\n",
    "               'Capital': ['Hartford', 'Treton', 'Albany']\n",
    "               }\n",
    "\n",
    "Capital = pd.DataFrame(capitalData, columns = ['State', 'Capital'])\n",
    "\n",
    "print(Capital)"
   ]
  },
  {
   "cell_type": "markdown",
   "metadata": {},
   "source": [
    "- Mutate a new boolean column, `Capital`, to `Temp`, which is `True` if the city in the row is the capital of the state, else `False`. [4 pts]"
   ]
  },
  {
   "cell_type": "code",
   "execution_count": 38,
   "metadata": {},
   "outputs": [
    {
     "name": "stdout",
     "output_type": "stream",
     "text": [
      "         City State  Temperature  Capital\n",
      "0         NYC    NY           67    False\n",
      "1      Albany    NY           49     True\n",
      "2     Buffalo    NY           38    False\n",
      "3    Hartford    CT           63     True\n",
      "4  Bridgeport    CT           58    False\n",
      "5      Treton    NJ           72     True\n",
      "6      Newark    NJ           68    False\n",
      "0   New Haven    CT           58    False\n"
     ]
    }
   ],
   "source": [
    "### Code Starts Here\n",
    "# Inspired from: https://stackoverflow.com/questions/50518607/mutate-column-conditionally; https://thispointer.com/pandas-check-if-a-value-exists-in-a-dataframe-using-in-not-in-operator-isin/\n",
    "\n",
    "Temp = Temp.assign(Capital = [True if Capital.isin([b]).any().any() else False for b in Temp['City']])\n",
    "\n",
    "\n",
    "print(Temp)"
   ]
  },
  {
   "cell_type": "markdown",
   "metadata": {},
   "source": [
    "### Problem 5 [30 pts]\n",
    "\n",
    "- a. Load the Gross Domestic Product data for the 190 ranked countries in the file **GDP.csv**. Load **Country.csv** into a DataFrame. [6 pts]"
   ]
  },
  {
   "cell_type": "code",
   "execution_count": 1,
   "metadata": {},
   "outputs": [
    {
     "name": "stdout",
     "output_type": "stream",
     "text": [
      "    CountryCode Ranking      Full Name         GDP\n",
      "0           USA       1  United States   16244600 \n",
      "1           CHN       2          China    8227103 \n",
      "2           JPN       3          Japan    5959718 \n",
      "3           DEU       4        Germany    3428131 \n",
      "4           FRA       5         France    2612878 \n",
      "..          ...     ...            ...         ...\n",
      "321         NaN     NaN            NaN         NaN\n",
      "322         NaN     NaN            NaN         NaN\n",
      "323         NaN     NaN            NaN         NaN\n",
      "324         NaN     NaN            NaN         NaN\n",
      "325         NaN     NaN            NaN         NaN\n",
      "\n",
      "[326 rows x 4 columns]\n"
     ]
    }
   ],
   "source": [
    "### Code Starts Here\n",
    "import pandas as pd\n",
    "\n",
    "GDP_df = pd.read_csv('GDP.csv', skiprows=4) # Skipping header\n",
    "Country_df = pd.read_csv('Country.csv')\n",
    "\n",
    "# Naming unnamed columns\n",
    "GDP_df.rename(columns={'Unnamed: 0':'CountryCode'}, inplace=True )\n",
    "GDP_df.rename(columns={'Unnamed: 1':'Ranking'}, inplace=True )\n",
    "GDP_df.rename(columns={'Unnamed: 3':'Full Name'}, inplace=True )\n",
    "GDP_df.rename(columns={'Unnamed: 4':'GDP'}, inplace=True )\n",
    "\n",
    "GDP_df['GDP'] = GDP_df['GDP'].str.replace(',', '') # Strip commas from GDP field\n",
    "\n",
    "#GDP_df.drop(columns=['Unnamed: 2', 'Unnamed: 5', 'Unnamed: 6', 'Unnamed: 7', 'Unnamed: 8', 'Unnamed: 9'])\n",
    "del GDP_df['Unnamed: 2']\n",
    "del GDP_df['Unnamed: 5']\n",
    "del GDP_df['Unnamed: 6']\n",
    "del GDP_df['Unnamed: 7']\n",
    "del GDP_df['Unnamed: 8']\n",
    "del GDP_df['Unnamed: 9']\n",
    "\n",
    "print(GDP_df)"
   ]
  },
  {
   "cell_type": "markdown",
   "metadata": {},
   "source": [
    "- b. Match the data based on the country shortcode. How many of the IDs match? [6 pts]"
   ]
  },
  {
   "cell_type": "code",
   "execution_count": 2,
   "metadata": {},
   "outputs": [
    {
     "name": "stdout",
     "output_type": "stream",
     "text": [
      "There are 224 merged rows.\n"
     ]
    }
   ],
   "source": [
    "### Code Starts Here\n",
    "\n",
    "#print(GDP_df)\n",
    "#Country_df.head()\n",
    "\n",
    "inner_join_df = pd.merge(GDP_df, Country_df, on='CountryCode', how='inner')\n",
    "\n",
    "num_rows = inner_join_df.shape[0]\n",
    "\n",
    "print(\"There are\" , num_rows , \"merged rows.\")"
   ]
  },
  {
   "cell_type": "markdown",
   "metadata": {},
   "source": [
    "- c. Sort the data frame in descending order by GDP rank. What is the 13th country in the resulting data frame? (Note: GDP formats as 123,456,789.) [6 pts]"
   ]
  },
  {
   "cell_type": "code",
   "execution_count": 3,
   "metadata": {},
   "outputs": [
    {
     "name": "stdout",
     "output_type": "stream",
     "text": [
      "CountryCode                                                                GRD\n",
      "Ranking                                                                  178.0\n",
      "Full Name                                                              Grenada\n",
      "GDP                                                                      767.0\n",
      "Long Name                                                              Grenada\n",
      "Income Group                                               Upper middle income\n",
      "Region                                               Latin America & Caribbean\n",
      "Lending category                                                         Blend\n",
      "Other groups                                                               NaN\n",
      "Currency Unit                                            East Caribbean dollar\n",
      "Latest population census                                                  2001\n",
      "Latest household survey                                                    NaN\n",
      "Special Notes                                                              NaN\n",
      "National accounts base year                                               1990\n",
      "National accounts reference year                                           NaN\n",
      "System of National Accounts                                                NaN\n",
      "SNA price valuation                                                        VAB\n",
      "Alternative conversion factor                                              NaN\n",
      "PPP survey year                                                            NaN\n",
      "Balance of Payments Manual in use                                         BPM5\n",
      "External debt Reporting status                                          Actual\n",
      "System of trade                                                        General\n",
      "Government Accounting concept                                        Budgetary\n",
      "IMF data dissemination standard                                           GDDS\n",
      "Source of most recent Income and expenditure data                          NaN\n",
      "Vital registration complete                                                NaN\n",
      "Latest agricultural census                                                 NaN\n",
      "Latest industrial data                                                     NaN\n",
      "Latest trade data                                                       2008.0\n",
      "Latest water withdrawal data                                               NaN\n",
      "2-alpha code                                                                GD\n",
      "WB-2 code                                                                   GD\n",
      "Table Name                                                             Grenada\n",
      "Short Name                                                             Grenada\n",
      "Name: 176, dtype: object\n"
     ]
    }
   ],
   "source": [
    "### Code Starts Here\n",
    "\n",
    "inner_join_df[\"Ranking\"] = pd.to_numeric(inner_join_df[\"Ranking\"], errors='coerce') # Converting string ranking number to float type, for proper sorting\n",
    "inner_join_df[\"GDP\"] = pd.to_numeric(inner_join_df[\"GDP\"], errors='coerce') # Converting GDP to number, for proper sorting\n",
    "\n",
    "# Sort by Ranking or GDP???\n",
    "\n",
    "#sorted_inner_join = inner_join_df.sort_values('GDP', ascending=False)\n",
    "sorted_inner_join = inner_join_df.sort_values('Ranking', ascending=False)\n",
    "#sorted_inner_join.to_csv('test.csv')\n",
    "sorted_inner_join.to_csv('test1.csv')\n",
    "print(sorted_inner_join.iloc[12]) # Using number 12 because iloc starts counting from 0"
   ]
  },
  {
   "cell_type": "markdown",
   "metadata": {},
   "source": [
    "- d. What is the average GDP for the \"High income: OECD\" and \"High income: nonOECD\" group? [6 pts]"
   ]
  },
  {
   "cell_type": "code",
   "execution_count": 44,
   "metadata": {},
   "outputs": [
    {
     "name": "stdout",
     "output_type": "stream",
     "text": [
      "Mean high income OECD:  1483917.1333333333\n",
      "Mean high income nonOECD:  104349.82608695653\n"
     ]
    }
   ],
   "source": [
    "### Code Starts Here\n",
    "\n",
    "high_income_OECD = inner_join_df.loc[inner_join_df['Income Group'] == 'High income: OECD']\n",
    "high_income_nonOECD = inner_join_df.loc[inner_join_df['Income Group'] == 'High income: nonOECD']\n",
    "\n",
    "#print(high_income_OECD)\n",
    "#print(high_income_nonOECD)\n",
    "\n",
    "mean_high_income_OECD = pd.to_numeric(high_income_OECD['GDP'], errors = 'coerce').mean()\n",
    "mean_high_income_nonOECD = pd.to_numeric(high_income_nonOECD['GDP'], errors = 'coerce').mean()\n",
    "\n",
    "print(\"Mean high income OECD: \", mean_high_income_OECD)\n",
    "print(\"Mean high income nonOECD: \", mean_high_income_nonOECD)\n",
    "\n",
    "\n"
   ]
  },
  {
   "cell_type": "markdown",
   "metadata": {},
   "source": [
    "- e. What is the average GDP for different income groups and regions? [6 pts]"
   ]
  },
  {
   "cell_type": "code",
   "execution_count": 40,
   "metadata": {},
   "outputs": [
    {
     "name": "stdout",
     "output_type": "stream",
     "text": [
      "Mean GDP High Income OECD:  1483917.1333333333\n",
      "Mean GDP High Income nonOECD:  104349.82608695653\n",
      "Mean GDP Upper Middle Income:  231847.84444444443\n",
      "Mean GDP Lower Middle Income:  256663.4814814815\n",
      "Mean GDP Upper Low Income:  14410.783783783783\n",
      "Mean GDP North America:  6023832.666666667\n",
      "Mean GDP East Asia & Pacific:  676834.4137931034\n",
      "Mean GDP Europe & Central Asia:  427270.1\n",
      "Mean GDP Latin America & Caribbean:  165881.2857142857\n",
      "Mean GDP South Asia:  285761.625\n",
      "Mean GDP Middle East & North Africa:  181992.88888888888\n",
      "Mean GDP Sub-Saharan Africa:  28537.58695652174\n"
     ]
    }
   ],
   "source": [
    "### Code Starts Here\n",
    "#print(inner_join_df['Income Group'].unique())\n",
    "#print(inner_join_df['Region'].unique())\n",
    "\n",
    "high_income_OECD = inner_join_df.loc[inner_join_df['Income Group'] == 'High income: OECD']\n",
    "high_income_nonOECD = inner_join_df.loc[inner_join_df['Income Group'] == 'High income: nonOECD']\n",
    "upper_middle_income = inner_join_df.loc[inner_join_df['Income Group'] == 'Upper middle income']\n",
    "lower_middle_income = inner_join_df.loc[inner_join_df['Income Group'] == 'Lower middle income']\n",
    "low_income = inner_join_df.loc[inner_join_df['Income Group'] == 'Low income']\n",
    "\n",
    "north_america = inner_join_df.loc[inner_join_df['Region'] == 'North America']\n",
    "east_asia = inner_join_df.loc[inner_join_df['Region'] == 'East Asia & Pacific']\n",
    "europe = inner_join_df.loc[inner_join_df['Region'] == 'Europe & Central Asia']\n",
    "latin_america = inner_join_df.loc[inner_join_df['Region'] == 'Latin America & Caribbean']\n",
    "south_asia = inner_join_df.loc[inner_join_df['Region'] == 'South Asia']\n",
    "middle_east = inner_join_df.loc[inner_join_df['Region'] == 'Middle East & North Africa']\n",
    "sub_saharan_africa = inner_join_df.loc[inner_join_df['Region'] == 'Sub-Saharan Africa']\n",
    "\n",
    "mean_high_income_OECD = pd.to_numeric(high_income_OECD['GDP'], errors = 'coerce').mean()\n",
    "mean_high_income_nonOECD = pd.to_numeric(high_income_nonOECD['GDP'], errors = 'coerce').mean()\n",
    "mean_upper_middle_income = pd.to_numeric(upper_middle_income['GDP'], errors = 'coerce').mean()\n",
    "mean_lower_middle_income = pd.to_numeric(lower_middle_income['GDP'], errors = 'coerce').mean()\n",
    "mean_upper_low_income = pd.to_numeric(low_income['GDP'], errors = 'coerce').mean()\n",
    "\n",
    "mean_north_america = pd.to_numeric(north_america['GDP'], errors = 'coerce').mean()\n",
    "mean_east_asia = pd.to_numeric(east_asia['GDP'], errors = 'coerce').mean()\n",
    "mean_europe = pd.to_numeric(europe['GDP'], errors = 'coerce').mean()\n",
    "mean_latin_america = pd.to_numeric(latin_america['GDP'], errors = 'coerce').mean()\n",
    "mean_south_asia = pd.to_numeric(south_asia['GDP'], errors = 'coerce').mean()\n",
    "mean_middle_east = pd.to_numeric(middle_east['GDP'], errors = 'coerce').mean()\n",
    "mean_sub_saharan_africa = pd.to_numeric(sub_saharan_africa['GDP'], errors = 'coerce').mean()\n",
    "\n",
    "print(\"Mean GDP High Income OECD: \", mean_high_income_OECD)\n",
    "print(\"Mean GDP High Income nonOECD: \", mean_high_income_nonOECD)\n",
    "print(\"Mean GDP Upper Middle Income: \", mean_upper_middle_income)\n",
    "print(\"Mean GDP Lower Middle Income: \", mean_lower_middle_income)\n",
    "print(\"Mean GDP Upper Low Income: \", mean_upper_low_income)\n",
    "print(\"Mean GDP North America: \", mean_north_america)\n",
    "print(\"Mean GDP East Asia & Pacific: \", mean_east_asia)\n",
    "print(\"Mean GDP Europe & Central Asia: \", mean_europe)\n",
    "print(\"Mean GDP Latin America & Caribbean: \", mean_latin_america)\n",
    "print(\"Mean GDP South Asia: \", mean_south_asia)\n",
    "print(\"Mean GDP Middle East & North Africa: \", mean_middle_east)\n",
    "print(\"Mean GDP Sub-Saharan Africa: \", mean_sub_saharan_africa)"
   ]
  },
  {
   "cell_type": "code",
   "execution_count": null,
   "metadata": {},
   "outputs": [],
   "source": []
  }
 ],
 "metadata": {
  "kernelspec": {
   "display_name": "Python 3",
   "language": "python",
   "name": "python3"
  },
  "language_info": {
   "codemirror_mode": {
    "name": "ipython",
    "version": 3
   },
   "file_extension": ".py",
   "mimetype": "text/x-python",
   "name": "python",
   "nbconvert_exporter": "python",
   "pygments_lexer": "ipython3",
   "version": "3.8.0"
  }
 },
 "nbformat": 4,
 "nbformat_minor": 4
}
